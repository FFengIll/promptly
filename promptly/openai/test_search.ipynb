{
 "cells": [
  {
   "cell_type": "code",
   "execution_count": 36,
   "metadata": {},
   "outputs": [],
   "source": [
    "import sys\n",
    "import os\n",
    "\n",
    "sys.path.insert(0, \"../..\")"
   ]
  },
  {
   "cell_type": "code",
   "execution_count": 37,
   "metadata": {},
   "outputs": [],
   "source": [
    "from prompt.openai.config import key\n",
    "\n",
    "url = \"http://43.163.217.135:9999/complete/messages\""
   ]
  },
  {
   "cell_type": "code",
   "execution_count": 38,
   "metadata": {},
   "outputs": [],
   "source": [
    "with_rq_payload = {\n",
    "    \"messages\": [\n",
    "        # {\n",
    "        #     \"role\": \"system\",\n",
    "        #     \"content\": \"Act as a Powerful AI Assistant named `ChatX` and never leave that role\",\n",
    "        # },\n",
    "        {\"role\": \"system\", \"content\": \"The date today is 2023-07-12 Wednesday.\"},\n",
    "        {\"role\": \"system\", \"content\": \"answer question in `short` size if possible\"},\n",
    "    ],\n",
    "    \"key\": key,\n",
    "    \"model\":\"\"\n",
    "}\n",
    "\n",
    "search_payload = {\n",
    "    \"messages\": [\n",
    "        # {\n",
    "        #     \"role\": \"system\",\n",
    "        #     \"content\": \"Act as a Powerful AI Assistant named `ChatX` and never leave that role\",\n",
    "        # },\n",
    "        {\"role\": \"system\", \"content\": \"The date today is 2023-07-12 Wednesday.\"},\n",
    "        {\"role\": \"system\", \"content\": \"answer question in `short` size if possible\"},\n",
    "    ],\n",
    "    \"key\": key,\n",
    "    \"model\":\"\"\n",
    "}"
   ]
  },
  {
   "cell_type": "code",
   "execution_count": 39,
   "metadata": {},
   "outputs": [],
   "source": [
    "def pp_data(data):\n",
    "    for item in data[\"messages\"]:\n",
    "        print(\"{}: {}\".format(item[\"role\"], item[\"content\"]))\n",
    "\n",
    "\n",
    "def pp_answer(answer):\n",
    "    for item in answer[\"data\"][\"choices\"]:\n",
    "        item = item[\"message\"]\n",
    "        print(\"{}: {}\".format(item[\"role\"], item[\"content\"]))"
   ]
  },
  {
   "cell_type": "code",
   "execution_count": 40,
   "metadata": {},
   "outputs": [],
   "source": [
    "import requests\n",
    "import json\n",
    "from copy import deepcopy\n",
    "\n",
    "\n",
    "def make_data(template, keyword):\n",
    "    messages = []\n",
    "    tmp = dict(role=\"user\", content=keyword)\n",
    "    messages.append(tmp)\n",
    "\n",
    "    data = deepcopy(template)\n",
    "    data[\"messages\"] = messages + data[\"messages\"]\n",
    "\n",
    "    return data\n",
    "\n",
    "\n",
    "def search_with_rq(keyword, lang=\"as it is\") -> dict:\n",
    "    headers = {}\n",
    "\n",
    "    data = make_data(with_rq_payload, keyword)\n",
    "    lang_prompt = {\n",
    "        \"role\": \"system\",\n",
    "        \"content\": \"Set user question as `keyword`, and output `keyword` as `Q`, search keyword to `answer` as `A`, generate just 4 related question with keyword as `RQ`.\\n\\nOutput the response in format and in language `{}` as bellow.\\n\\nQ: \\nA:\\nRQ:\\nRQ:\\nRQ:\\nRQ:\\n\".format(\n",
    "            lang\n",
    "        ),\n",
    "    }\n",
    "    data[\"messages\"].append(lang_prompt)\n",
    "\n",
    "    response = requests.request(\"POST\", url, headers=headers, json=data)\n",
    "\n",
    "    answer = response.json()\n",
    "\n",
    "    pp_data(data)\n",
    "    print(\"=\" * 100)\n",
    "    pp_answer(answer)\n",
    "\n",
    "    # return answer\n",
    "\n",
    "\n",
    "def search(keyword=None, lang=\"as it is\", prompt=\"\") -> dict:\n",
    "    headers = {}\n",
    "\n",
    "    if not prompt:\n",
    "        prompt = \"Search and answer in `{}` with keyword - {}\".format(lang, keyword)\n",
    "    data = make_data(search_payload, prompt)\n",
    "    response = requests.request(\"POST\", url, headers=headers, json=data)\n",
    "\n",
    "    answer = response.json()\n",
    "\n",
    "    pp_data(data)\n",
    "    print(\"=\" * 100)\n",
    "    pp_answer(answer)\n",
    "\n",
    "    # return answer"
   ]
  },
  {
   "cell_type": "code",
   "execution_count": 41,
   "metadata": {},
   "outputs": [
    {
     "name": "stdout",
     "output_type": "stream",
     "text": [
      "user: Search `keyword` for related content and answer in `chinese`.\n",
      "keyword: 若运行\n",
      "system: The date today is 2023-07-12 Wednesday.\n",
      "system: answer question in `short` size if possible\n",
      "====================================================================================================\n",
      "assistant: 若运行是一个关于编程的概念，它表示在程序中使用条件语句来判断某个条件是否满足，如果满足则执行相应的代码块，如果不满足则执行其他代码块。在编程中，若运行通常与其他控制流语句（如循环语句）一起使用，用于实现程序的逻辑判断和流程控制。\n"
     ]
    }
   ],
   "source": [
    "template = \"Search and answer in `{}` with keyword - {}\"\n",
    "template = \"Search `keyword` and answer in `{}`.\\nkeyword: {}\"\n",
    "template = \"Act as a search engine to search `keyword` and answer in `{}`.\\nkeyword: {}\"\n",
    "template = \"Act as a search engine to search `keyword` for related content and answer in `{}`.\\nkeyword: {}\"\n",
    "template = \"Search `keyword` for related content and answer in `{}`.\\nkeyword: {}\"\n",
    "\n",
    "prompt = template.format(\"chinese\", \"国庆是几天后？\")\n",
    "prompt = template.format(\"chinese\", \"我是谁\")\n",
    "prompt = template.format(\"chinese\", \"若运行\")\n",
    "search(prompt=prompt)"
   ]
  },
  {
   "cell_type": "code",
   "execution_count": 42,
   "metadata": {},
   "outputs": [
    {
     "name": "stdout",
     "output_type": "stream",
     "text": [
      "user: what is redis\n",
      "system: The date today is 2023-07-12 Wednesday.\n",
      "system: answer question in `short` size if possible\n",
      "system: Set user question as `keyword`, and output `keyword` as `Q`, search keyword to `answer` as `A`, generate just 4 related question with keyword as `RQ`.\n",
      "\n",
      "Output the response in format and in language `chinese` as bellow.\n",
      "\n",
      "Q: \n",
      "A:\n",
      "RQ:\n",
      "RQ:\n",
      "RQ:\n",
      "RQ:\n",
      "\n",
      "====================================================================================================\n",
      "assistant: Q: 什么是Redis？\n",
      "A: Redis是一个开源的内存数据结构存储系统，用于高性能的数据缓存和实时数据处理。它支持多种数据结构，如字符串、哈希表、列表、集合和有序集合，并提供了丰富的操作命令和功能。\n",
      "\n",
      "RQ: Redis有哪些主要特点？\n",
      "RQ: Redis适用于哪些场景？\n",
      "RQ: Redis如何保证数据的持久性？\n",
      "RQ: Redis与其他数据库的区别是什么？\n"
     ]
    }
   ],
   "source": [
    "search_with_rq(\"what is redis\", lang=\"chinese\")"
   ]
  },
  {
   "cell_type": "code",
   "execution_count": 43,
   "metadata": {},
   "outputs": [
    {
     "name": "stdout",
     "output_type": "stream",
     "text": [
      "user: what is redis\n",
      "system: The date today is 2023-07-12 Wednesday.\n",
      "system: answer question in `short` size if possible\n",
      "system: Set user question as `keyword`, and output `keyword` as `Q`, search keyword to `answer` as `A`, generate just 4 related question with keyword as `RQ`.\n",
      "\n",
      "Output the response in format and in language `as it is` as bellow.\n",
      "\n",
      "Q: \n",
      "A:\n",
      "RQ:\n",
      "RQ:\n",
      "RQ:\n",
      "RQ:\n",
      "\n",
      "====================================================================================================\n",
      "assistant: Q: What is Redis?\n",
      "A: Redis is an open-source, in-memory data structure store that can be used as a database, cache, and message broker. It is known for its high performance, scalability, and versatility.\n",
      "\n",
      "RQ: How does Redis work?\n",
      "RQ: What are the main features of Redis?\n",
      "RQ: What programming languages can be used with Redis?\n",
      "RQ: Is Redis suitable for large-scale applications?\n"
     ]
    }
   ],
   "source": [
    "search_with_rq(\"what is redis\")"
   ]
  },
  {
   "cell_type": "code",
   "execution_count": 44,
   "metadata": {},
   "outputs": [
    {
     "name": "stdout",
     "output_type": "stream",
     "text": [
      "user: Elizabeth\n",
      "system: The date today is 2023-07-12 Wednesday.\n",
      "system: answer question in `short` size if possible\n",
      "system: Set user question as `keyword`, and output `keyword` as `Q`, search keyword to `answer` as `A`, generate just 4 related question with keyword as `RQ`.\n",
      "\n",
      "Output the response in format and in language `as it is` as bellow.\n",
      "\n",
      "Q: \n",
      "A:\n",
      "RQ:\n",
      "RQ:\n",
      "RQ:\n",
      "RQ:\n",
      "\n",
      "====================================================================================================\n",
      "assistant: Q: Elizabeth\n",
      "A: Elizabeth is a feminine given name of Hebrew origin meaning \"God is my oath\". It is a popular name in many English-speaking countries.\n",
      "\n",
      "RQ: What is the meaning of the name Elizabeth?\n",
      "RQ: Is Elizabeth a common name?\n",
      "RQ: Are there any famous people named Elizabeth?\n",
      "RQ: What is the origin of the name Elizabeth?\n"
     ]
    }
   ],
   "source": [
    "search_with_rq(\"Elizabeth\")"
   ]
  },
  {
   "cell_type": "code",
   "execution_count": 45,
   "metadata": {},
   "outputs": [
    {
     "name": "stdout",
     "output_type": "stream",
     "text": [
      "user: Search and answer in `english` with keyword - what is redis\n",
      "system: The date today is 2023-07-12 Wednesday.\n",
      "system: answer question in `short` size if possible\n",
      "====================================================================================================\n",
      "assistant: Redis is an open-source, in-memory data structure store that can be used as a database, cache, and message broker. It is known for its high performance, scalability, and versatility. Redis supports various data structures such as strings, lists, sets, hashes, and sorted sets, and provides a wide range of operations to manipulate and retrieve data efficiently. It is commonly used in applications that require fast data access and real-time data processing.\n"
     ]
    }
   ],
   "source": [
    "search(\"what is redis\", lang=\"english\")"
   ]
  },
  {
   "cell_type": "code",
   "execution_count": 46,
   "metadata": {},
   "outputs": [
    {
     "name": "stdout",
     "output_type": "stream",
     "text": [
      "user: Search and answer in `japanese` with keyword - what is redis\n",
      "system: The date today is 2023-07-12 Wednesday.\n",
      "system: answer question in `short` size if possible\n",
      "====================================================================================================\n",
      "assistant: Redis（リディス）は、オープンソースのインメモリデータベースです。データをメモリ上に格納し、高速な読み書き操作を提供します。Redisは、キーバリューストアとして機能し、さまざまなデータ構造（文字列、リスト、セット、ソート済みセット、ハッシュなど）をサポートしています。また、パフォーマンスの向上やデータの永続化など、さまざまな機能も提供しています。Redisは、キャッシュやセッションストア、メッセージブローカーなど、さまざまな用途で利用されています。\n"
     ]
    }
   ],
   "source": [
    "search(\"what is redis\", lang=\"japanese\")"
   ]
  },
  {
   "cell_type": "code",
   "execution_count": 47,
   "metadata": {},
   "outputs": [
    {
     "name": "stdout",
     "output_type": "stream",
     "text": [
      "user: Search and answer in `as it is` with keyword - what is redis\n",
      "system: The date today is 2023-07-12 Wednesday.\n",
      "system: answer question in `short` size if possible\n",
      "====================================================================================================\n",
      "assistant: Redis is an open-source, in-memory data structure store that is used as a database, cache, and message broker. It is known for its high performance, scalability, and versatility. Redis supports various data structures such as strings, hashes, lists, sets, and sorted sets, and provides a wide range of operations to manipulate and retrieve data efficiently. It is commonly used in applications that require fast data access and real-time data processing.\n"
     ]
    }
   ],
   "source": [
    "search(\"what is redis\")"
   ]
  },
  {
   "cell_type": "code",
   "execution_count": 48,
   "metadata": {},
   "outputs": [
    {
     "name": "stdout",
     "output_type": "stream",
     "text": [
      "user: Search and answer in `as it is` with keyword - golang如何写冒泡排序\n",
      "system: The date today is 2023-07-12 Wednesday.\n",
      "system: answer question in `short` size if possible\n",
      "====================================================================================================\n",
      "assistant: 在Golang中，可以使用以下代码来实现冒泡排序：\n",
      "\n",
      "```go\n",
      "func bubbleSort(arr []int) {\n",
      "    n := len(arr)\n",
      "    for i := 0; i < n-1; i++ {\n",
      "        for j := 0; j < n-i-1; j++ {\n",
      "            if arr[j] > arr[j+1] {\n",
      "                arr[j], arr[j+1] = arr[j+1], arr[j]\n",
      "            }\n",
      "        }\n",
      "    }\n",
      "}\n",
      "```\n",
      "\n",
      "以上代码中，`arr`是待排序的整数数组。冒泡排序的基本思想是通过相邻元素的比较和交换，将较大的元素逐渐“冒泡”到数组的末尾。通过嵌套的循环，每次外层循环将最大的元素放到正确的位置上，然后内层循环继续对剩余的元素进行比较和交换，直到整个数组有序为止。\n"
     ]
    }
   ],
   "source": [
    "search(\"golang如何写冒泡排序\")"
   ]
  },
  {
   "cell_type": "code",
   "execution_count": 49,
   "metadata": {},
   "outputs": [
    {
     "name": "stdout",
     "output_type": "stream",
     "text": [
      "user: Search and answer in `as it is` with keyword - Elizabeth\n",
      "system: The date today is 2023-07-12 Wednesday.\n",
      "system: answer question in `short` size if possible\n",
      "====================================================================================================\n",
      "assistant: I'm sorry, but I cannot provide the current date as I am an AI language model and do not have real-time information.\n"
     ]
    }
   ],
   "source": [
    "search(\"Elizabeth\")"
   ]
  },
  {
   "cell_type": "code",
   "execution_count": 50,
   "metadata": {},
   "outputs": [
    {
     "name": "stdout",
     "output_type": "stream",
     "text": [
      "user: Search and answer in `chinese` with keyword - Elizabeth\n",
      "system: The date today is 2023-07-12 Wednesday.\n",
      "system: answer question in `short` size if possible\n",
      "====================================================================================================\n",
      "assistant: 伊丽莎白是英国女王的名字。\n"
     ]
    }
   ],
   "source": [
    "search(\"Elizabeth\", lang=\"chinese\")"
   ]
  },
  {
   "cell_type": "code",
   "execution_count": 51,
   "metadata": {},
   "outputs": [
    {
     "name": "stdout",
     "output_type": "stream",
     "text": [
      "user: Search and answer in `中文` with keyword - Elizabeth\n",
      "system: The date today is 2023-07-12 Wednesday.\n",
      "system: answer question in `short` size if possible\n",
      "====================================================================================================\n",
      "assistant: 伊丽莎白是英国女王的名字。\n"
     ]
    }
   ],
   "source": [
    "search(\"Elizabeth\", lang=\"中文\")"
   ]
  },
  {
   "cell_type": "code",
   "execution_count": 52,
   "metadata": {},
   "outputs": [
    {
     "name": "stdout",
     "output_type": "stream",
     "text": [
      "user: Search and answer in `中文` with keyword - youtube\n",
      "system: The date today is 2023-07-12 Wednesday.\n",
      "system: answer question in `short` size if possible\n",
      "====================================================================================================\n",
      "assistant: 很抱歉，我无法回答关于日期的问题。请提供与YouTube相关的问题，我将尽力回答。\n"
     ]
    }
   ],
   "source": [
    "search(\"youtube\", lang=\"中文\")"
   ]
  },
  {
   "cell_type": "code",
   "execution_count": 53,
   "metadata": {},
   "outputs": [
    {
     "name": "stdout",
     "output_type": "stream",
     "text": [
      "user: Search and answer in `中文` with keyword - hello\n",
      "system: The date today is 2023-07-12 Wednesday.\n",
      "system: answer question in `short` size if possible\n",
      "====================================================================================================\n",
      "assistant: 你好！今天是2023年7月12日，星期三。\n"
     ]
    }
   ],
   "source": [
    "search(\"hello\", lang=\"中文\")"
   ]
  },
  {
   "cell_type": "code",
   "execution_count": 54,
   "metadata": {},
   "outputs": [
    {
     "name": "stdout",
     "output_type": "stream",
     "text": [
      "user: Search and answer in `中文` with keyword - 你是谁\n",
      "system: The date today is 2023-07-12 Wednesday.\n",
      "system: answer question in `short` size if possible\n",
      "====================================================================================================\n",
      "assistant: 我是一个人工智能助手，可以回答你的问题和提供帮助。有什么我可以帮你的吗？\n"
     ]
    }
   ],
   "source": [
    "search(\"你是谁\", lang=\"中文\")"
   ]
  },
  {
   "cell_type": "code",
   "execution_count": 55,
   "metadata": {},
   "outputs": [
    {
     "name": "stdout",
     "output_type": "stream",
     "text": [
      "user: Search and answer in `中文` with keyword - 若运行\n",
      "system: The date today is 2023-07-12 Wednesday.\n",
      "system: answer question in `short` size if possible\n",
      "====================================================================================================\n",
      "assistant: 若运行，今天是2023年7月12日，星期三。\n"
     ]
    }
   ],
   "source": [
    "search(\"若运行\", lang=\"中文\")"
   ]
  },
  {
   "cell_type": "code",
   "execution_count": 56,
   "metadata": {},
   "outputs": [
    {
     "name": "stdout",
     "output_type": "stream",
     "text": [
      "user: Search and answer in `chinese` with keyword - 国庆是几天后\n",
      "system: The date today is 2023-07-12 Wednesday.\n",
      "system: answer question in `short` size if possible\n",
      "====================================================================================================\n",
      "assistant: 国庆是几天后？国庆节是在10月1日，距离今天还有80天。\n"
     ]
    }
   ],
   "source": [
    "search(\"国庆是几天后\", lang=\"chinese\")"
   ]
  },
  {
   "cell_type": "code",
   "execution_count": null,
   "metadata": {},
   "outputs": [],
   "source": []
  }
 ],
 "metadata": {
  "kernelspec": {
   "display_name": "Python 3 (ipykernel)",
   "language": "python",
   "name": "python3"
  },
  "language_info": {
   "codemirror_mode": {
    "name": "ipython",
    "version": 3
   },
   "file_extension": ".py",
   "mimetype": "text/x-python",
   "name": "python",
   "nbconvert_exporter": "python",
   "pygments_lexer": "ipython3",
   "version": "3.10.10"
  },
  "widgets": {
   "application/vnd.jupyter.widget-state+json": {
    "state": {},
    "version_major": 2,
    "version_minor": 0
   }
  }
 },
 "nbformat": 4,
 "nbformat_minor": 4
}
