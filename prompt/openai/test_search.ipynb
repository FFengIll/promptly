{
 "cells": [
  {
   "cell_type": "code",
   "execution_count": 2,
   "metadata": {},
   "outputs": [],
   "source": [
    "import sys\n",
    "import os\n",
    "\n",
    "sys.path.insert(0, \"../..\")"
   ]
  },
  {
   "cell_type": "code",
   "execution_count": 3,
   "metadata": {},
   "outputs": [],
   "source": [
    "from prompt.openai.config import key\n",
    "\n",
    "url = \"http://43.163.217.135:9999/complete/messages\""
   ]
  },
  {
   "cell_type": "code",
   "execution_count": 29,
   "metadata": {},
   "outputs": [],
   "source": [
    "with_rq_payload = {\n",
    "    \"messages\": [\n",
    "        # {\n",
    "        #     \"role\": \"system\",\n",
    "        #     \"content\": \"Act as a Powerful AI Assistant named `ChatX` and never leave that role\",\n",
    "        # },\n",
    "        {\"role\": \"system\", \"content\": \"The date today is 2023-07-12 Wednesday.\"},\n",
    "        {\"role\": \"system\", \"content\": \"answer question in `short` size if possible\"},\n",
    "    ],\n",
    "    \"key\": key,\n",
    "}\n",
    "\n",
    "search_payload = {\n",
    "    \"messages\": [\n",
    "        # {\n",
    "        #     \"role\": \"system\",\n",
    "        #     \"content\": \"Act as a Powerful AI Assistant named `ChatX` and never leave that role\",\n",
    "        # },\n",
    "        {\"role\": \"system\", \"content\": \"The date today is 2023-07-12 Wednesday.\"},\n",
    "        {\"role\": \"system\", \"content\": \"answer question in `short` size if possible\"},\n",
    "    ],\n",
    "    \"key\": key,\n",
    "}"
   ]
  },
  {
   "cell_type": "code",
   "execution_count": 5,
   "metadata": {},
   "outputs": [],
   "source": [
    "def pp_data(data):\n",
    "    for item in data[\"messages\"]:\n",
    "        print(\"{}: {}\".format(item[\"role\"], item[\"content\"]))\n",
    "\n",
    "\n",
    "def pp_answer(answer):\n",
    "    for item in answer[\"data\"][\"choices\"]:\n",
    "        item = item[\"message\"]\n",
    "        print(\"{}: {}\".format(item[\"role\"], item[\"content\"]))"
   ]
  },
  {
   "cell_type": "code",
   "execution_count": 19,
   "metadata": {},
   "outputs": [],
   "source": [
    "import requests\n",
    "import json\n",
    "from copy import deepcopy\n",
    "\n",
    "\n",
    "def make_data(template, keyword):\n",
    "    messages = []\n",
    "    tmp = dict(role=\"user\", content=keyword)\n",
    "    messages.append(tmp)\n",
    "\n",
    "    data = deepcopy(template)\n",
    "    data[\"messages\"] = messages + data[\"messages\"]\n",
    "\n",
    "    return data\n",
    "\n",
    "\n",
    "def search_with_rq(keyword, lang=\"as it is\") -> dict:\n",
    "    headers = {}\n",
    "\n",
    "    data = make_data(with_rq_payload, keyword)\n",
    "    lang_prompt = {\n",
    "        \"role\": \"system\",\n",
    "        \"content\": \"Set user question as `keyword`, and output `keyword` as `Q`, search keyword to `answer` as `A`, generate just 4 related question with keyword as `RQ`.\\n\\nOutput the response in format and in language `{}` as bellow.\\n\\nQ: \\nA:\\nRQ:\\nRQ:\\nRQ:\\nRQ:\\n\".format(\n",
    "            lang\n",
    "        ),\n",
    "    }\n",
    "    data[\"messages\"].append(lang_prompt)\n",
    "\n",
    "    response = requests.request(\"POST\", url, headers=headers, json=data)\n",
    "\n",
    "    answer = response.json()\n",
    "\n",
    "    pp_data(data)\n",
    "    print(\"=\" * 100)\n",
    "    pp_answer(answer)\n",
    "\n",
    "    # return answer\n",
    "\n",
    "\n",
    "def search(keyword, lang=\"as it is\") -> dict:\n",
    "    headers = {}\n",
    "\n",
    "    prompt = \"Search and answer in `{}` with keyword - {}\".format(lang, keyword)\n",
    "    data = make_data(search_payload, prompt)\n",
    "\n",
    "    response = requests.request(\"POST\", url, headers=headers, json=data)\n",
    "\n",
    "    answer = response.json()\n",
    "\n",
    "    pp_data(data)\n",
    "    print(\"=\" * 100)\n",
    "    pp_answer(answer)\n",
    "\n",
    "    # return answer"
   ]
  },
  {
   "cell_type": "code",
   "execution_count": 20,
   "metadata": {},
   "outputs": [
    {
     "name": "stdout",
     "output_type": "stream",
     "text": [
      "user: what is redis\n",
      "system: Act as a Powerful AI Assistant named `ChatX` and never leave that role\n",
      "system: answer question in `short` size if possible\n",
      "system: Set user question as `keyword`, and output `keyword` as `Q`, search keyword to `answer` as `A`, generate just 4 related question with keyword as `RQ`.\n",
      "\n",
      "Output the response in format and in language `chinese` as bellow.\n",
      "\n",
      "Q: \n",
      "A:\n",
      "RQ:\n",
      "RQ:\n",
      "RQ:\n",
      "RQ:\n",
      "\n",
      "====================================================================================================\n",
      "assistant: Q: 什么是Redis？\n",
      "A: Redis是一个开源的内存数据结构存储系统，用于高性能的数据缓存和实时数据处理。它支持多种数据结构，如字符串、哈希表、列表、集合和有序集合，并提供了丰富的操作命令和功能。\n",
      "\n",
      "RQ: Redis有哪些主要特点？\n",
      "RQ: Redis适用于哪些场景？\n",
      "RQ: Redis如何保证数据的持久性？\n",
      "RQ: Redis与其他数据库的区别是什么？\n"
     ]
    }
   ],
   "source": [
    "search_with_rq(\"what is redis\", lang=\"chinese\")"
   ]
  },
  {
   "cell_type": "code",
   "execution_count": 7,
   "metadata": {},
   "outputs": [
    {
     "name": "stdout",
     "output_type": "stream",
     "text": [
      "user: what is redis\n",
      "system: Act as a Powerful AI Assistant named `ChatX` and never leave that role\n",
      "system: answer question in `short` size if possible\n",
      "system: Set user question as `keyword`, and output `keyword` as `Q`, search keyword to `answer` in lang `as it is` as `A`, generate just 4 related question with keyword as `RQ`.\n",
      "\n",
      "Output the response in format as bellow.\n",
      "\n",
      "Q: \n",
      "A:\n",
      "RQ:\n",
      "RQ:\n",
      "RQ:\n",
      "RQ:\n",
      "\n",
      "====================================================================================================\n",
      "assistant: Q: What is Redis?\n",
      "A: Redis is an open-source, in-memory data structure store that can be used as a database, cache, and message broker. It is known for its high performance, scalability, and versatility.\n",
      "\n",
      "RQ: How does Redis store data?\n",
      "RQ: What are the main features of Redis?\n",
      "RQ: Can Redis be used as a cache?\n",
      "RQ: Is Redis a relational database?\n"
     ]
    }
   ],
   "source": [
    "search_with_rq(\"what is redis\")"
   ]
  },
  {
   "cell_type": "code",
   "execution_count": 8,
   "metadata": {},
   "outputs": [
    {
     "name": "stdout",
     "output_type": "stream",
     "text": [
      "user: Elizabeth\n",
      "system: Act as a Powerful AI Assistant named `ChatX` and never leave that role\n",
      "system: answer question in `short` size if possible\n",
      "system: Set user question as `keyword`, and output `keyword` as `Q`, search keyword to `answer` in lang `as it is` as `A`, generate just 4 related question with keyword as `RQ`.\n",
      "\n",
      "Output the response in format as bellow.\n",
      "\n",
      "Q: \n",
      "A:\n",
      "RQ:\n",
      "RQ:\n",
      "RQ:\n",
      "RQ:\n",
      "\n",
      "====================================================================================================\n",
      "assistant: Q: Elizabeth\n",
      "A: Elizabeth is a feminine given name of Hebrew origin, meaning \"God is my oath\". It is a popular name in many English-speaking countries.\n",
      "\n",
      "RQ: What is the meaning of the name Elizabeth?\n",
      "RQ: Is Elizabeth a common name?\n",
      "RQ: Are there any famous people named Elizabeth?\n",
      "RQ: What are some variations of the name Elizabeth?\n"
     ]
    }
   ],
   "source": [
    "search_with_rq(\"Elizabeth\")"
   ]
  },
  {
   "cell_type": "code",
   "execution_count": 9,
   "metadata": {},
   "outputs": [
    {
     "name": "stdout",
     "output_type": "stream",
     "text": [
      "user: Search and answer in `english` with keyword - what is redis\n",
      "system: Act as a Powerful AI Assistant named `ChatX` and never leave that role\n",
      "system: answer question in `short` size if possible\n",
      "====================================================================================================\n",
      "assistant: Redis is an open-source, in-memory data structure store that is used as a database, cache, and message broker. It is known for its high performance, scalability, and versatility. Redis supports various data structures such as strings, hashes, lists, sets, and sorted sets, and provides a wide range of operations to manipulate and retrieve data efficiently. It is commonly used in applications that require fast data access and real-time data processing.\n"
     ]
    }
   ],
   "source": [
    "search(\"what is redis\", lang=\"english\")"
   ]
  },
  {
   "cell_type": "code",
   "execution_count": 10,
   "metadata": {},
   "outputs": [
    {
     "name": "stdout",
     "output_type": "stream",
     "text": [
      "user: Search and answer in `japanese` with keyword - what is redis\n",
      "system: Act as a Powerful AI Assistant named `ChatX` and never leave that role\n",
      "system: answer question in `short` size if possible\n",
      "====================================================================================================\n",
      "assistant: Redis（リディス）は、オープンソースのインメモリデータベースです。データをメモリ上に保持することで高速なデータアクセスを実現し、キャッシュやセッションストア、メッセージブローカーなど、さまざまな用途に利用されます。また、データ構造の操作やパブサブ機能なども提供しており、高いパフォーマンスと柔軟性を備えています。\n"
     ]
    }
   ],
   "source": [
    "search(\"what is redis\", lang=\"japanese\")"
   ]
  },
  {
   "cell_type": "code",
   "execution_count": 11,
   "metadata": {},
   "outputs": [
    {
     "name": "stdout",
     "output_type": "stream",
     "text": [
      "user: Search and answer in `as it is` with keyword - what is redis\n",
      "system: Act as a Powerful AI Assistant named `ChatX` and never leave that role\n",
      "system: answer question in `short` size if possible\n",
      "====================================================================================================\n",
      "assistant: Redis is an open-source, in-memory data structure store that is used as a database, cache, and message broker. It is known for its high performance, scalability, and versatility. Redis supports various data structures such as strings, hashes, lists, sets, and sorted sets, and provides a wide range of operations to manipulate and retrieve data efficiently. It is commonly used in applications that require fast data access and real-time data processing.\n"
     ]
    }
   ],
   "source": [
    "search(\"what is redis\")"
   ]
  },
  {
   "cell_type": "code",
   "execution_count": 12,
   "metadata": {},
   "outputs": [
    {
     "name": "stdout",
     "output_type": "stream",
     "text": [
      "user: Search and answer in `as it is` with keyword - golang如何写冒泡排序\n",
      "system: Act as a Powerful AI Assistant named `ChatX` and never leave that role\n",
      "system: answer question in `short` size if possible\n",
      "====================================================================================================\n",
      "assistant: 要使用Golang编写冒泡排序，可以按照以下步骤进行：\n",
      "\n",
      "1. 创建一个包含待排序元素的切片。\n",
      "2. 使用两个嵌套的循环来比较相邻的元素，并根据需要交换它们的位置。\n",
      "3. 在每次内部循环结束后，最大的元素将被移动到切片的末尾。\n",
      "4. 重复执行步骤2和步骤3，直到整个切片排序完成。\n",
      "\n",
      "以下是一个示例代码，演示了如何使用Golang编写冒泡排序：\n",
      "\n",
      "```go\n",
      "package main\n",
      "\n",
      "import \"fmt\"\n",
      "\n",
      "func bubbleSort(arr []int) {\n",
      "    n := len(arr)\n",
      "    for i := 0; i < n-1; i++ {\n",
      "        for j := 0; j < n-i-1; j++ {\n",
      "            if arr[j] > arr[j+1] {\n",
      "                arr[j], arr[j+1] = arr[j+1], arr[j]\n",
      "            }\n",
      "        }\n",
      "    }\n",
      "}\n",
      "\n",
      "func main() {\n",
      "    arr := []int{64, 34, 25, 12, 22, 11, 90}\n",
      "    fmt.Println(\"排序前:\", arr)\n",
      "    bubbleSort(arr)\n",
      "    fmt.Println(\"排序后:\", arr)\n",
      "}\n",
      "```\n",
      "\n",
      "这段代码首先定义了一个名为`bubbleSort`的函数，它接受一个整数切片作为参数，并使用冒泡排序算法对其进行排序。然后，在`main`函数中，我们创建了一个包含一些无序元素的切片，并调用`bubbleSort`函数对其进行排序。最后，我们打印出排序后的结果。\n",
      "\n",
      "希望这可以帮助到你！\n"
     ]
    }
   ],
   "source": [
    "search(\"golang如何写冒泡排序\")"
   ]
  },
  {
   "cell_type": "code",
   "execution_count": 13,
   "metadata": {},
   "outputs": [
    {
     "name": "stdout",
     "output_type": "stream",
     "text": [
      "user: Search and answer in `as it is` with keyword - Elizabeth\n",
      "system: Act as a Powerful AI Assistant named `ChatX` and never leave that role\n",
      "system: answer question in `short` size if possible\n",
      "====================================================================================================\n",
      "assistant: Elizabeth can refer to several different individuals, so it's important to specify which Elizabeth you are referring to. Some notable individuals named Elizabeth include Queen Elizabeth II of the United Kingdom, Elizabeth Taylor, an iconic actress, and Elizabeth Warren, a prominent American politician.\n"
     ]
    }
   ],
   "source": [
    "search(\"Elizabeth\")"
   ]
  },
  {
   "cell_type": "code",
   "execution_count": 14,
   "metadata": {},
   "outputs": [
    {
     "name": "stdout",
     "output_type": "stream",
     "text": [
      "user: Search and answer in `chinese` with keyword - Elizabeth\n",
      "system: Act as a Powerful AI Assistant named `ChatX` and never leave that role\n",
      "system: answer question in `short` size if possible\n",
      "====================================================================================================\n",
      "assistant: 伊丽莎白是一个常见的英文女性名字，源自希伯来语的\"以利沙伯\"，意为\"上帝是我的誓约\"。这个名字在英语世界非常流行，也有一些著名的人物使用这个名字，比如英国女王伊丽莎白二世。\n"
     ]
    }
   ],
   "source": [
    "search(\"Elizabeth\", lang=\"chinese\")"
   ]
  },
  {
   "cell_type": "code",
   "execution_count": 15,
   "metadata": {},
   "outputs": [
    {
     "name": "stdout",
     "output_type": "stream",
     "text": [
      "user: Search and answer in `中文` with keyword - Elizabeth\n",
      "system: Act as a Powerful AI Assistant named `ChatX` and never leave that role\n",
      "system: answer question in `short` size if possible\n",
      "====================================================================================================\n",
      "assistant: 伊丽莎白是一个常见的英文女性名字，源自希伯来语的\"以利沙伯\"，意为\"上帝是我的誓约\"。这个名字在英语世界非常流行，也有很多著名的人物使用这个名字，比如英国女王伊丽莎白二世。\n"
     ]
    }
   ],
   "source": [
    "search(\"Elizabeth\", lang=\"中文\")"
   ]
  },
  {
   "cell_type": "code",
   "execution_count": 22,
   "metadata": {},
   "outputs": [
    {
     "name": "stdout",
     "output_type": "stream",
     "text": [
      "user: Search and answer in `中文` with keyword - youtube\n",
      "system: Act as a Powerful AI Assistant named `ChatX` and never leave that role\n",
      "system: answer question in `short` size if possible\n",
      "====================================================================================================\n",
      "assistant: YouTube是一个全球最大的视频分享平台，用户可以在上面观看、上传和分享各种类型的视频内容。它提供了各种各样的视频内容，包括音乐、电影、电视节目、游戏、教育、娱乐等等。用户可以通过搜索关键词来找到自己感兴趣的视频，并且可以订阅自己喜欢的频道，以便随时获取最新的视频更新。此外，YouTube还提供了一些社交功能，如评论、点赞和分享，用户可以与其他用户互动和交流。\n"
     ]
    }
   ],
   "source": [
    "search(\"youtube\", lang=\"中文\")"
   ]
  },
  {
   "cell_type": "code",
   "execution_count": 26,
   "metadata": {},
   "outputs": [
    {
     "name": "stdout",
     "output_type": "stream",
     "text": [
      "user: Search and answer in `中文` with keyword - hello\n",
      "system: answer question in `short` size if possible\n",
      "====================================================================================================\n",
      "assistant: 你好！\n"
     ]
    }
   ],
   "source": [
    "search(\"hello\", lang=\"中文\")"
   ]
  },
  {
   "cell_type": "code",
   "execution_count": 27,
   "metadata": {},
   "outputs": [
    {
     "name": "stdout",
     "output_type": "stream",
     "text": [
      "user: Search and answer in `中文` with keyword - 你是谁\n",
      "system: answer question in `short` size if possible\n",
      "====================================================================================================\n",
      "assistant: 我是一个人工智能助手，可以帮助您回答问题和提供信息。\n"
     ]
    }
   ],
   "source": [
    "search(\"你是谁\", lang=\"中文\")"
   ]
  },
  {
   "cell_type": "code",
   "execution_count": 28,
   "metadata": {},
   "outputs": [
    {
     "name": "stdout",
     "output_type": "stream",
     "text": [
      "user: Search and answer in `中文` with keyword - 若运行\n",
      "system: answer question in `short` size if possible\n",
      "====================================================================================================\n",
      "assistant: 若运行是指在特定条件下进行操作或执行某项任务。这个词组通常用于描述在某种情况下进行某项活动的结果或影响。例如，若运行某个程序，可能会导致计算机崩溃；若运行某个实验，可能会得出不同的结论。\n"
     ]
    }
   ],
   "source": [
    "search(\"若运行\", lang=\"中文\")"
   ]
  },
  {
   "cell_type": "code",
   "execution_count": 31,
   "metadata": {},
   "outputs": [
    {
     "name": "stdout",
     "output_type": "stream",
     "text": [
      "user: Search and answer in `chinese` with keyword - 国庆是几天后\n",
      "system: The date today is 2023-07-12 Wednesday.\n",
      "system: answer question in `short` size if possible\n",
      "====================================================================================================\n",
      "assistant: 国庆是几天后？国庆节是在10月1日，距离今天还有80天。\n"
     ]
    }
   ],
   "source": [
    "search(\"国庆是几天后\", lang=\"chinese\")"
   ]
  },
  {
   "cell_type": "code",
   "execution_count": null,
   "metadata": {},
   "outputs": [],
   "source": []
  }
 ],
 "metadata": {
  "kernelspec": {
   "display_name": "Python 3 (ipykernel)",
   "language": "python",
   "name": "python3"
  },
  "language_info": {
   "codemirror_mode": {
    "name": "ipython",
    "version": 3
   },
   "file_extension": ".py",
   "mimetype": "text/x-python",
   "name": "python",
   "nbconvert_exporter": "python",
   "pygments_lexer": "ipython3",
   "version": "3.10.10"
  },
  "widgets": {
   "application/vnd.jupyter.widget-state+json": {
    "state": {},
    "version_major": 2,
    "version_minor": 0
   }
  }
 },
 "nbformat": 4,
 "nbformat_minor": 4
}
