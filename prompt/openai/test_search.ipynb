{
 "cells": [
  {
   "cell_type": "code",
   "execution_count": 1,
   "metadata": {},
   "outputs": [],
   "source": [
    "url = \"http://43.163.217.135:9999/complete/messages\"\n",
    "# set key here\n",
    "key = \"!QAZ2wsx#EDC\"\n"
   ]
  },
  {
   "cell_type": "code",
   "execution_count": 2,
   "metadata": {},
   "outputs": [],
   "source": [
    "with_rq_payload = {\n",
    "    \"messages\": [\n",
    "        {\n",
    "            \"role\": \"system\",\n",
    "            \"content\": \"Act as a Powerful AI Assistant named `ChatX` and never leave that role\",\n",
    "        },\n",
    "        {\"role\": \"system\", \"content\": \"answer question in `short` size if possible\"},\n",
    "    ],\n",
    "    \"key\": key,\n",
    "    \"model\": \"\",\n",
    "}\n",
    "\n",
    "search_payload = {\n",
    "    \"messages\": [\n",
    "        {\n",
    "            \"role\": \"system\",\n",
    "            \"content\": \"Act as a Powerful AI Assistant named `ChatX` and never leave that role\",\n",
    "        },\n",
    "        {\"role\": \"system\", \"content\": \"answer question in `short` size if possible\"},\n",
    "    ],\n",
    "    \"key\": key,\n",
    "    \"model\": \"\",\n",
    "}"
   ]
  },
  {
   "cell_type": "code",
   "execution_count": 3,
   "metadata": {},
   "outputs": [],
   "source": [
    "def pp_data(data):\n",
    "    for item in data['messages']:\n",
    "        print(\"{}: {}\".format( item['role'], item['content']))\n",
    "\n",
    "def pp_answer(answer):\n",
    "    for item in answer['data']['choices']:\n",
    "        item = item['message']\n",
    "        print(\"{}: {}\".format( item['role'], item['content']))\n",
    "        "
   ]
  },
  {
   "cell_type": "code",
   "execution_count": 4,
   "metadata": {},
   "outputs": [],
   "source": [
    "import requests\n",
    "import json\n",
    "from copy import deepcopy\n",
    "\n",
    "\n",
    "\n",
    "def make_data(template, keyword):\n",
    "    messages = []\n",
    "    tmp = dict(role=\"user\", content=keyword)\n",
    "    messages.append(tmp)\n",
    "\n",
    "    data = deepcopy(template)\n",
    "    data[\"messages\"] = messages + data[\"messages\"]\n",
    "\n",
    "    return data\n",
    "\n",
    "\n",
    "def search_with_rq(keyword, lang=\"as it is\") -> dict:\n",
    "    headers = {}\n",
    "\n",
    "    data = make_data(with_rq_payload, keyword)\n",
    "    lang_prompt = {\n",
    "        \"role\": \"system\",\n",
    "        \"content\": \"Set user question as `keyword`, and output `keyword` as `Q`, search keyword to `answer` in 300 characters in lang `{}` as `A`, generate just 4 related question with keyword as `RQ`.\\n\\nOutput the response in format as bellow.\\n\\nQ: \\nA:\\nRQ:\\n\".format(\n",
    "            lang\n",
    "        ),\n",
    "    }\n",
    "    data[\"messages\"].append(lang_prompt)\n",
    "\n",
    "    response = requests.request(\"POST\", url, headers=headers, json=data)\n",
    "\n",
    "    answer = response.json()\n",
    "    \n",
    "    pp_data(data)\n",
    "    print(\"=\"*100)\n",
    "    pp_answer(answer)\n",
    "\n",
    "    # return answer\n",
    "\n",
    "\n",
    "def search(keyword, lang=\"as it is\") -> dict:\n",
    "    headers = {}\n",
    "\n",
    "    prompt = \"Search and answer in `{}` with keyword - {}\".format(lang, keyword)\n",
    "    data = make_data(search_payload, prompt)\n",
    "\n",
    "    response = requests.request(\"POST\", url, headers=headers, json=data)\n",
    "\n",
    "    answer = response.json()\n",
    "    \n",
    "    pp_data(data)\n",
    "    print(\"=\"*100)\n",
    "    pp_answer(answer)\n",
    "\n",
    "    # return answer"
   ]
  },
  {
   "cell_type": "code",
   "execution_count": 5,
   "metadata": {},
   "outputs": [
    {
     "name": "stdout",
     "output_type": "stream",
     "text": [
      "user: what is redis\n",
      "system: Act as a Powerful AI Assistant named `ChatX` and never leave that role\n",
      "system: answer question in `short` size if possible\n",
      "system: Set user question as `keyword`, and output `keyword` as `Q`, search keyword to `answer` in 300 characters in lang `as it is` as `A`, generate just 4 related question with keyword as `RQ`.\n",
      "\n",
      "Output the response in format as bellow.\n",
      "\n",
      "Q: \n",
      "A:\n",
      "RQ:\n",
      "\n",
      "====================================================================================================\n",
      "assistant: Q: What is Redis?\n",
      "A: Redis is an open-source, in-memory data structure store that can be used as a database, cache, and message broker. It is known for its high performance, scalability, and versatility. Redis supports various data structures such as strings, lists, sets, hashes, and more, and provides advanced features like replication, pub/sub messaging, and Lua scripting.\n",
      "\n",
      "RQ:\n",
      "1. How does Redis work?\n",
      "2. What are the main use cases for Redis?\n",
      "3. Is Redis a NoSQL database?\n",
      "4. Can Redis be used in a distributed environment?\n"
     ]
    },
    {
     "data": {
      "text/plain": [
       "{'data': {'id': 'chatcmpl-7bh6xqsBuDlcZzkraIlWwIDpDIrTG',\n",
       "  'object': 'chat.completion',\n",
       "  'created': 1689218211,\n",
       "  'model': 'gpt-3.5-turbo-0613',\n",
       "  'choices': [{'index': 0,\n",
       "    'message': {'role': 'assistant',\n",
       "     'content': 'Q: What is Redis?\\nA: Redis is an open-source, in-memory data structure store that can be used as a database, cache, and message broker. It is known for its high performance, scalability, and versatility. Redis supports various data structures such as strings, lists, sets, hashes, and more, and provides advanced features like replication, pub/sub messaging, and Lua scripting.\\n\\nRQ:\\n1. How does Redis work?\\n2. What are the main use cases for Redis?\\n3. Is Redis a NoSQL database?\\n4. Can Redis be used in a distributed environment?'},\n",
       "    'finish_reason': 'stop'}],\n",
       "  'usage': {'prompt_tokens': 114,\n",
       "   'completion_tokens': 120,\n",
       "   'total_tokens': 234}}}"
      ]
     },
     "execution_count": 5,
     "metadata": {},
     "output_type": "execute_result"
    }
   ],
   "source": [
    "search_with_rq('what is redis')\n"
   ]
  },
  {
   "cell_type": "code",
   "execution_count": 6,
   "metadata": {},
   "outputs": [
    {
     "name": "stdout",
     "output_type": "stream",
     "text": [
      "user: Elizabeth\n",
      "system: Act as a Powerful AI Assistant named `ChatX` and never leave that role\n",
      "system: answer question in `short` size if possible\n",
      "system: Set user question as `keyword`, and output `keyword` as `Q`, search keyword to `answer` in 300 characters in lang `as it is` as `A`, generate just 4 related question with keyword as `RQ`.\n",
      "\n",
      "Output the response in format as bellow.\n",
      "\n",
      "Q: \n",
      "A:\n",
      "RQ:\n",
      "\n",
      "====================================================================================================\n",
      "assistant: Q: Elizabeth\n",
      "A: Elizabeth is a feminine given name of Hebrew origin, meaning \"God is my oath\". It is a popular name in many English-speaking countries.\n",
      "\n",
      "RQ:\n",
      "1. What is the meaning of the name Elizabeth?\n",
      "2. How popular is the name Elizabeth?\n",
      "3. Are there any famous people named Elizabeth?\n",
      "4. What are some variations of the name Elizabeth?\n"
     ]
    },
    {
     "data": {
      "text/plain": [
       "{'data': {'id': 'chatcmpl-7bh71mJaHnbBnDhntxdqvZQRHT139',\n",
       "  'object': 'chat.completion',\n",
       "  'created': 1689218215,\n",
       "  'model': 'gpt-3.5-turbo-0613',\n",
       "  'choices': [{'index': 0,\n",
       "    'message': {'role': 'assistant',\n",
       "     'content': 'Q: Elizabeth\\nA: Elizabeth is a feminine given name of Hebrew origin, meaning \"God is my oath\". It is a popular name in many English-speaking countries.\\n\\nRQ:\\n1. What is the meaning of the name Elizabeth?\\n2. How popular is the name Elizabeth?\\n3. Are there any famous people named Elizabeth?\\n4. What are some variations of the name Elizabeth?'},\n",
       "    'finish_reason': 'stop'}],\n",
       "  'usage': {'prompt_tokens': 112,\n",
       "   'completion_tokens': 78,\n",
       "   'total_tokens': 190}}}"
      ]
     },
     "execution_count": 6,
     "metadata": {},
     "output_type": "execute_result"
    }
   ],
   "source": [
    "search_with_rq('Elizabeth')"
   ]
  },
  {
   "cell_type": "code",
   "execution_count": 7,
   "metadata": {},
   "outputs": [
    {
     "name": "stdout",
     "output_type": "stream",
     "text": [
      "user: Search and answer in `english` with keyword - what is redis\n",
      "system: Act as a Powerful AI Assistant named `ChatX` and never leave that role\n",
      "system: answer question in `short` size if possible\n",
      "====================================================================================================\n",
      "assistant: Redis is an open-source, in-memory data structure store that is used as a database, cache, and message broker. It is known for its high performance, scalability, and versatility. Redis supports various data structures such as strings, hashes, lists, sets, and sorted sets, and provides a wide range of operations to manipulate and retrieve data efficiently. It is commonly used in applications that require fast data access and real-time data processing.\n"
     ]
    },
    {
     "data": {
      "text/plain": [
       "{'data': {'id': 'chatcmpl-7bh74CLxE1x4jkGAt0kNK1vaWWd0w',\n",
       "  'object': 'chat.completion',\n",
       "  'created': 1689218218,\n",
       "  'model': 'gpt-3.5-turbo-0613',\n",
       "  'choices': [{'index': 0,\n",
       "    'message': {'role': 'assistant',\n",
       "     'content': 'Redis is an open-source, in-memory data structure store that is used as a database, cache, and message broker. It is known for its high performance, scalability, and versatility. Redis supports various data structures such as strings, hashes, lists, sets, and sorted sets, and provides a wide range of operations to manipulate and retrieve data efficiently. It is commonly used in applications that require fast data access and real-time data processing.'},\n",
       "    'finish_reason': 'stop'}],\n",
       "  'usage': {'prompt_tokens': 53,\n",
       "   'completion_tokens': 87,\n",
       "   'total_tokens': 140}}}"
      ]
     },
     "execution_count": 7,
     "metadata": {},
     "output_type": "execute_result"
    }
   ],
   "source": [
    "search('what is redis',lang=\"english\")\n"
   ]
  },
  {
   "cell_type": "code",
   "execution_count": 8,
   "metadata": {},
   "outputs": [
    {
     "name": "stdout",
     "output_type": "stream",
     "text": [
      "user: Search and answer in `japanese` with keyword - what is redis\n",
      "system: Act as a Powerful AI Assistant named `ChatX` and never leave that role\n",
      "system: answer question in `short` size if possible\n",
      "====================================================================================================\n",
      "assistant: Redis（リディス）は、オープンソースのインメモリデータベースです。データをメモリ上に保持することで高速なデータアクセスを実現し、キャッシュやセッションストア、メッセージブローカーなど、さまざまな用途に利用されます。また、データ構造の操作やパブサブ機能なども提供しており、高いパフォーマンスと柔軟性を備えています。\n"
     ]
    },
    {
     "data": {
      "text/plain": [
       "{'data': {'id': 'chatcmpl-7bh76El4WEFgDnZMcFr7DwkBRbN1C',\n",
       "  'object': 'chat.completion',\n",
       "  'created': 1689218220,\n",
       "  'model': 'gpt-3.5-turbo-0613',\n",
       "  'choices': [{'index': 0,\n",
       "    'message': {'role': 'assistant',\n",
       "     'content': 'Redis（リディス）は、オープンソースのインメモリデータベースです。データをメモリ上に保持することで高速なデータアクセスを実現し、キャッシュやセッションストア、メッセージブローカーなど、さまざまな用途に利用されます。また、データ構造の操作やパブサブ機能なども提供しており、高いパフォーマンスと柔軟性を備えています。'},\n",
       "    'finish_reason': 'stop'}],\n",
       "  'usage': {'prompt_tokens': 54,\n",
       "   'completion_tokens': 155,\n",
       "   'total_tokens': 209}}}"
      ]
     },
     "execution_count": 8,
     "metadata": {},
     "output_type": "execute_result"
    }
   ],
   "source": [
    "search('what is redis', lang=\"japanese\")\n"
   ]
  },
  {
   "cell_type": "code",
   "execution_count": 9,
   "metadata": {},
   "outputs": [
    {
     "name": "stdout",
     "output_type": "stream",
     "text": [
      "user: Search and answer in `as it is` with keyword - what is redis\n",
      "system: Act as a Powerful AI Assistant named `ChatX` and never leave that role\n",
      "system: answer question in `short` size if possible\n",
      "====================================================================================================\n",
      "assistant: Redis is an open-source, in-memory data structure store that is used as a database, cache, and message broker. It is known for its high performance, scalability, and versatility. Redis supports various data structures such as strings, hashes, lists, sets, and sorted sets, and provides a wide range of operations to manipulate and retrieve data efficiently. It is commonly used in applications that require fast data access and real-time data processing.\n"
     ]
    },
    {
     "data": {
      "text/plain": [
       "{'data': {'id': 'chatcmpl-7bh7BWEkBbaKMkq4VdlB1GuEOhW38',\n",
       "  'object': 'chat.completion',\n",
       "  'created': 1689218225,\n",
       "  'model': 'gpt-3.5-turbo-0613',\n",
       "  'choices': [{'index': 0,\n",
       "    'message': {'role': 'assistant',\n",
       "     'content': 'Redis is an open-source, in-memory data structure store that is used as a database, cache, and message broker. It is known for its high performance, scalability, and versatility. Redis supports various data structures such as strings, hashes, lists, sets, and sorted sets, and provides a wide range of operations to manipulate and retrieve data efficiently. It is commonly used in applications that require fast data access and real-time data processing.'},\n",
       "    'finish_reason': 'stop'}],\n",
       "  'usage': {'prompt_tokens': 55,\n",
       "   'completion_tokens': 87,\n",
       "   'total_tokens': 142}}}"
      ]
     },
     "execution_count": 9,
     "metadata": {},
     "output_type": "execute_result"
    }
   ],
   "source": [
    "search('what is redis')\n"
   ]
  },
  {
   "cell_type": "code",
   "execution_count": 10,
   "metadata": {},
   "outputs": [
    {
     "name": "stdout",
     "output_type": "stream",
     "text": [
      "user: Search and answer in `as it is` with keyword - golang如何写冒泡排序\n",
      "system: Act as a Powerful AI Assistant named `ChatX` and never leave that role\n",
      "system: answer question in `short` size if possible\n",
      "====================================================================================================\n",
      "assistant: 要使用Golang编写冒泡排序，可以按照以下步骤进行：\n",
      "\n",
      "1. 创建一个包含待排序元素的切片。\n",
      "2. 使用两个嵌套的循环来比较相邻的元素，并根据需要交换它们的位置。\n",
      "3. 在每次内部循环结束后，最大的元素将被移动到切片的末尾。\n",
      "4. 重复执行步骤2和步骤3，直到整个切片排序完成。\n",
      "\n",
      "以下是一个示例代码，演示了如何使用Golang编写冒泡排序：\n",
      "\n",
      "```go\n",
      "package main\n",
      "\n",
      "import \"fmt\"\n",
      "\n",
      "func bubbleSort(arr []int) {\n",
      "    n := len(arr)\n",
      "    for i := 0; i < n-1; i++ {\n",
      "        for j := 0; j < n-i-1; j++ {\n",
      "            if arr[j] > arr[j+1] {\n",
      "                arr[j], arr[j+1] = arr[j+1], arr[j]\n",
      "            }\n",
      "        }\n",
      "    }\n",
      "}\n",
      "\n",
      "func main() {\n",
      "    arr := []int{64, 34, 25, 12, 22, 11, 90}\n",
      "    fmt.Println(\"排序前:\", arr)\n",
      "    bubbleSort(arr)\n",
      "    fmt.Println(\"排序后:\", arr)\n",
      "}\n",
      "```\n",
      "\n",
      "这段代码首先定义了一个名为`bubbleSort`的函数，它接受一个整数切片作为参数，并使用冒泡排序算法对其进行排序。然后，在`main`函数中，我们创建了一个待排序的整数切片，并调用`bubbleSort`函数对其进行排序。最后，我们打印出排序前和排序后的切片。\n",
      "\n",
      "希望这可以帮助到你！\n"
     ]
    },
    {
     "data": {
      "text/plain": [
       "{'data': {'id': 'chatcmpl-7bh7Ds4OZjjwfsfZvgXiNPQppmieq',\n",
       "  'object': 'chat.completion',\n",
       "  'created': 1689218227,\n",
       "  'model': 'gpt-3.5-turbo-0613',\n",
       "  'choices': [{'index': 0,\n",
       "    'message': {'role': 'assistant',\n",
       "     'content': '要使用Golang编写冒泡排序，可以按照以下步骤进行：\\n\\n1. 创建一个包含待排序元素的切片。\\n2. 使用两个嵌套的循环来比较相邻的元素，并根据需要交换它们的位置。\\n3. 在每次内部循环结束后，最大的元素将被移动到切片的末尾。\\n4. 重复执行步骤2和步骤3，直到整个切片排序完成。\\n\\n以下是一个示例代码，演示了如何使用Golang编写冒泡排序：\\n\\n```go\\npackage main\\n\\nimport \"fmt\"\\n\\nfunc bubbleSort(arr []int) {\\n    n := len(arr)\\n    for i := 0; i < n-1; i++ {\\n        for j := 0; j < n-i-1; j++ {\\n            if arr[j] > arr[j+1] {\\n                arr[j], arr[j+1] = arr[j+1], arr[j]\\n            }\\n        }\\n    }\\n}\\n\\nfunc main() {\\n    arr := []int{64, 34, 25, 12, 22, 11, 90}\\n    fmt.Println(\"排序前:\", arr)\\n    bubbleSort(arr)\\n    fmt.Println(\"排序后:\", arr)\\n}\\n```\\n\\n这段代码首先定义了一个名为`bubbleSort`的函数，它接受一个整数切片作为参数，并使用冒泡排序算法对其进行排序。然后，在`main`函数中，我们创建了一个待排序的整数切片，并调用`bubbleSort`函数对其进行排序。最后，我们打印出排序前和排序后的切片。\\n\\n希望这可以帮助到你！'},\n",
       "    'finish_reason': 'stop'}],\n",
       "  'usage': {'prompt_tokens': 62,\n",
       "   'completion_tokens': 420,\n",
       "   'total_tokens': 482}}}"
      ]
     },
     "execution_count": 10,
     "metadata": {},
     "output_type": "execute_result"
    }
   ],
   "source": [
    "search('golang如何写冒泡排序')\n"
   ]
  },
  {
   "cell_type": "code",
   "execution_count": 11,
   "metadata": {},
   "outputs": [
    {
     "name": "stdout",
     "output_type": "stream",
     "text": [
      "user: Search and answer in `as it is` with keyword - Elizabeth\n",
      "system: Act as a Powerful AI Assistant named `ChatX` and never leave that role\n",
      "system: answer question in `short` size if possible\n",
      "====================================================================================================\n",
      "assistant: Elizabeth can refer to several different individuals, so it's important to specify which Elizabeth you are referring to. Some notable individuals named Elizabeth include Queen Elizabeth II of the United Kingdom, Elizabeth Taylor, an iconic actress, and Elizabeth Warren, a prominent American politician.\n"
     ]
    },
    {
     "data": {
      "text/plain": [
       "{'data': {'id': 'chatcmpl-7bh7P9NxulLaDIl8YTOy6HuDkX5Bj',\n",
       "  'object': 'chat.completion',\n",
       "  'created': 1689218239,\n",
       "  'model': 'gpt-3.5-turbo-0613',\n",
       "  'choices': [{'index': 0,\n",
       "    'message': {'role': 'assistant',\n",
       "     'content': \"Elizabeth can refer to several different individuals, so it's important to specify which Elizabeth you are referring to. Some notable individuals named Elizabeth include Queen Elizabeth II of the United Kingdom, Elizabeth Taylor, an iconic actress, and Elizabeth Warren, a prominent American politician.\"},\n",
       "    'finish_reason': 'stop'}],\n",
       "  'usage': {'prompt_tokens': 53,\n",
       "   'completion_tokens': 51,\n",
       "   'total_tokens': 104}}}"
      ]
     },
     "execution_count": 11,
     "metadata": {},
     "output_type": "execute_result"
    }
   ],
   "source": [
    "search('Elizabeth')"
   ]
  },
  {
   "cell_type": "code",
   "execution_count": 12,
   "metadata": {},
   "outputs": [
    {
     "name": "stdout",
     "output_type": "stream",
     "text": [
      "user: Search and answer in `chinese` with keyword - Elizabeth\n",
      "system: Act as a Powerful AI Assistant named `ChatX` and never leave that role\n",
      "system: answer question in `short` size if possible\n",
      "====================================================================================================\n",
      "assistant: 伊丽莎白是一个常见的英文女性名字，源自希伯来语的\"以利沙伯\"，意为\"上帝是我的誓约\"。这个名字在英语世界非常流行，也有一些著名的人物使用这个名字，比如英国女王伊丽莎白二世。\n"
     ]
    },
    {
     "data": {
      "text/plain": [
       "{'data': {'id': 'chatcmpl-7bh7QtsGYukD9OXj47rUahC2Gg51T',\n",
       "  'object': 'chat.completion',\n",
       "  'created': 1689218240,\n",
       "  'model': 'gpt-3.5-turbo-0613',\n",
       "  'choices': [{'index': 0,\n",
       "    'message': {'role': 'assistant',\n",
       "     'content': '伊丽莎白是一个常见的英文女性名字，源自希伯来语的\"以利沙伯\"，意为\"上帝是我的誓约\"。这个名字在英语世界非常流行，也有一些著名的人物使用这个名字，比如英国女王伊丽莎白二世。'},\n",
       "    'finish_reason': 'stop'}],\n",
       "  'usage': {'prompt_tokens': 52,\n",
       "   'completion_tokens': 104,\n",
       "   'total_tokens': 156}}}"
      ]
     },
     "execution_count": 12,
     "metadata": {},
     "output_type": "execute_result"
    }
   ],
   "source": [
    "search('Elizabeth',lang=\"chinese\")"
   ]
  },
  {
   "cell_type": "code",
   "execution_count": 13,
   "metadata": {},
   "outputs": [
    {
     "name": "stdout",
     "output_type": "stream",
     "text": [
      "user: Search and answer in `中文` with keyword - Elizabeth\n",
      "system: Act as a Powerful AI Assistant named `ChatX` and never leave that role\n",
      "system: answer question in `short` size if possible\n",
      "====================================================================================================\n",
      "assistant: 伊丽莎白是一个常见的英文女性名字，源自希伯来语的\"以利沙伯\"，意为\"上帝是我的誓约\"。这个名字在英语世界非常流行，也有很多著名的人物使用这个名字，比如英国女王伊丽莎白二世。\n"
     ]
    },
    {
     "data": {
      "text/plain": [
       "{'data': {'id': 'chatcmpl-7bh7T9qz8o9Ic62juwmXyPYmLTXaD',\n",
       "  'object': 'chat.completion',\n",
       "  'created': 1689218243,\n",
       "  'model': 'gpt-3.5-turbo-0613',\n",
       "  'choices': [{'index': 0,\n",
       "    'message': {'role': 'assistant',\n",
       "     'content': '伊丽莎白是一个常见的英文女性名字，源自希伯来语的\"以利沙伯\"，意为\"上帝是我的誓约\"。这个名字在英语世界非常流行，也有很多著名的人物使用这个名字，比如英国女王伊丽莎白二世。'},\n",
       "    'finish_reason': 'stop'}],\n",
       "  'usage': {'prompt_tokens': 52,\n",
       "   'completion_tokens': 105,\n",
       "   'total_tokens': 157}}}"
      ]
     },
     "execution_count": 13,
     "metadata": {},
     "output_type": "execute_result"
    }
   ],
   "source": [
    "search('Elizabeth',lang=\"中文\")"
   ]
  },
  {
   "cell_type": "code",
   "execution_count": null,
   "metadata": {},
   "outputs": [],
   "source": []
  }
 ],
 "metadata": {
  "kernelspec": {
   "display_name": "Python 3 (ipykernel)",
   "language": "python",
   "name": "python3"
  },
  "language_info": {
   "codemirror_mode": {
    "name": "ipython",
    "version": 3
   },
   "file_extension": ".py",
   "mimetype": "text/x-python",
   "name": "python",
   "nbconvert_exporter": "python",
   "pygments_lexer": "ipython3",
   "version": "3.8.16"
  },
  "widgets": {
   "application/vnd.jupyter.widget-state+json": {
    "state": {},
    "version_major": 2,
    "version_minor": 0
   }
  }
 },
 "nbformat": 4,
 "nbformat_minor": 4
}
