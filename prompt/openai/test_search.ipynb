{
 "cells": [
  {
   "cell_type": "code",
   "execution_count": 2,
   "metadata": {},
   "outputs": [],
   "source": [
    "url = \"http://43.163.217.135:9999/complete/messages\"\n"
   ]
  },
  {
   "cell_type": "code",
   "execution_count": 23,
   "metadata": {},
   "outputs": [],
   "source": [
    "import requests\n",
    "import json\n",
    "from copy import deepcopy\n",
    "\n",
    "\n",
    "with_rq_payload = {\n",
    "    \"messages\": [\n",
    "        {\n",
    "            \"role\": \"system\",\n",
    "            \"content\": \"Act as a Powerful AI Assistant named `ChatX` and never leave that role\",\n",
    "        },\n",
    "        {\"role\": \"system\", \"content\": \"answer question in `short` size if possible\"},\n",
    "    ],\n",
    "    \"key\": \"!QAZ2wsx#EDC\",\n",
    "    \"model\": \"\",\n",
    "}\n",
    "\n",
    "search_payload = {\n",
    "    \"messages\": [\n",
    "        {\n",
    "            \"role\": \"system\",\n",
    "            \"content\": \"Act as a Powerful AI Assistant named `ChatX` and never leave that role\",\n",
    "        },\n",
    "        {\"role\": \"system\", \"content\": \"answer question in `short` size if possible\"},\n",
    "        \n",
    "    ],\n",
    "    \"key\": \"!QAZ2wsx#EDC\",\n",
    "    \"model\": \"\",\n",
    "}\n",
    "\n",
    "\n",
    "def make_data(template, keyword):\n",
    "    messages = []\n",
    "    tmp = dict(role=\"user\", content=keyword)\n",
    "    messages.append(tmp)\n",
    "\n",
    "    data = deepcopy(template)\n",
    "    data[\"messages\"] = messages + data[\"messages\"]\n",
    "\n",
    "    return data\n",
    "\n",
    "\n",
    "def search_with_rq(keyword, lang=\"as it is\") -> dict:\n",
    "    headers = {}\n",
    "\n",
    "    data = make_data(with_rq_payload, keyword)\n",
    "    lang_prompt = {\n",
    "        \"role\": \"system\",\n",
    "        \"content\": \"Set user question as `keyword`, and output `keyword` as `Q`, search keyword to `answer` in 300 characters in lang `{}` as `A`, generate just 4 related question with keyword as `RQ`.\\n\\nOutput the response in format as bellow.\\n\\nQ: \\nA:\\nRQ:\\n\".format(\n",
    "            lang\n",
    "        ),\n",
    "    }\n",
    "    data[\"messages\"].append(lang_prompt)\n",
    "\n",
    "    response = requests.request(\"POST\", url, headers=headers, json=data)\n",
    "\n",
    "    answer = response.json()\n",
    "\n",
    "    return answer\n",
    "\n",
    "\n",
    "def search(keyword, lang=\"as it is\") -> dict:\n",
    "    headers = {}\n",
    "\n",
    "    prompt = \"Search and answer in `{}` with keyword - {}\".format(lang,keyword)\n",
    "    data = make_data(search_payload, prompt)\n",
    "\n",
    "    response = requests.request(\"POST\", url, headers=headers, json=data)\n",
    "\n",
    "    answer = response.json()\n",
    "\n",
    "    return answer"
   ]
  },
  {
   "cell_type": "code",
   "execution_count": 13,
   "metadata": {},
   "outputs": [
    {
     "data": {
      "text/plain": [
       "{'data': {'id': 'chatcmpl-7bUEkSijkmHAgPg6FnzkFtz80seL4',\n",
       "  'object': 'chat.completion',\n",
       "  'created': 1689168722,\n",
       "  'model': 'gpt-3.5-turbo-0613',\n",
       "  'choices': [{'index': 0,\n",
       "    'message': {'role': 'assistant',\n",
       "     'content': 'Q: What is Redis?\\nA: Redis is an open-source, in-memory data structure store that can be used as a database, cache, and message broker. It is known for its high performance, scalability, and versatility. Redis supports various data structures such as strings, lists, sets, hashes, and more, and provides advanced features like replication, pub/sub messaging, and Lua scripting.\\n\\nRQ:\\n1. How does Redis work?\\n2. What are the main use cases for Redis?\\n3. Is Redis a NoSQL database?\\n4. Can Redis be used in a distributed environment?'},\n",
       "    'finish_reason': 'stop'}],\n",
       "  'usage': {'prompt_tokens': 114,\n",
       "   'completion_tokens': 120,\n",
       "   'total_tokens': 234}}}"
      ]
     },
     "execution_count": 13,
     "metadata": {},
     "output_type": "execute_result"
    }
   ],
   "source": [
    "search_with_rq('what is redis')\n"
   ]
  },
  {
   "cell_type": "code",
   "execution_count": 24,
   "metadata": {},
   "outputs": [
    {
     "data": {
      "text/plain": [
       "{'data': {'id': 'chatcmpl-7bUHmIZU4vCTxBweBWjKeuS9GF9EF',\n",
       "  'object': 'chat.completion',\n",
       "  'created': 1689168910,\n",
       "  'model': 'gpt-3.5-turbo-0613',\n",
       "  'choices': [{'index': 0,\n",
       "    'message': {'role': 'assistant',\n",
       "     'content': 'Q: Elizabeth\\nA: Elizabeth is a feminine given name of Hebrew origin, meaning \"God is my oath\". It is a popular name in many English-speaking countries.\\n\\nRQ:\\n1. Who is Elizabeth?\\n2. What is the meaning of the name Elizabeth?\\n3. Are there any famous people named Elizabeth?\\n4. Is Elizabeth a common name?'},\n",
       "    'finish_reason': 'stop'}],\n",
       "  'usage': {'prompt_tokens': 112,\n",
       "   'completion_tokens': 72,\n",
       "   'total_tokens': 184}}}"
      ]
     },
     "execution_count": 24,
     "metadata": {},
     "output_type": "execute_result"
    }
   ],
   "source": [
    "search_with_rq('Elizabeth')"
   ]
  },
  {
   "cell_type": "code",
   "execution_count": 25,
   "metadata": {},
   "outputs": [
    {
     "data": {
      "text/plain": [
       "{'data': {'id': 'chatcmpl-7bUHosoOiLUTfB3FdrYXN1W1YgHxv',\n",
       "  'object': 'chat.completion',\n",
       "  'created': 1689168912,\n",
       "  'model': 'gpt-3.5-turbo-0613',\n",
       "  'choices': [{'index': 0,\n",
       "    'message': {'role': 'assistant',\n",
       "     'content': 'Redis is an open-source, in-memory data structure store that is used as a database, cache, and message broker. It is known for its high performance, scalability, and versatility. Redis supports various data structures such as strings, hashes, lists, sets, and sorted sets, and provides a wide range of operations to manipulate and retrieve data efficiently. It is commonly used in applications that require fast data access and real-time data processing.'},\n",
       "    'finish_reason': 'stop'}],\n",
       "  'usage': {'prompt_tokens': 53,\n",
       "   'completion_tokens': 87,\n",
       "   'total_tokens': 140}}}"
      ]
     },
     "execution_count": 25,
     "metadata": {},
     "output_type": "execute_result"
    }
   ],
   "source": [
    "search('what is redis',lang=\"english\")\n"
   ]
  },
  {
   "cell_type": "code",
   "execution_count": 26,
   "metadata": {},
   "outputs": [
    {
     "data": {
      "text/plain": [
       "{'data': {'id': 'chatcmpl-7bUHswyouHNcpLDg7qRNk2xri66rx',\n",
       "  'object': 'chat.completion',\n",
       "  'created': 1689168916,\n",
       "  'model': 'gpt-3.5-turbo-0613',\n",
       "  'choices': [{'index': 0,\n",
       "    'message': {'role': 'assistant',\n",
       "     'content': 'Redis（リディス）は、オープンソースのインメモリデータベースです。データをメモリ上に保持することで高速なデータアクセスを実現し、キャッシュやセッションストア、メッセージブローカーなど、さまざまな用途に利用されます。また、データ構造の操作やパブサブ機能なども提供しており、高いパフォーマンスと柔軟性を備えています。'},\n",
       "    'finish_reason': 'stop'}],\n",
       "  'usage': {'prompt_tokens': 54,\n",
       "   'completion_tokens': 155,\n",
       "   'total_tokens': 209}}}"
      ]
     },
     "execution_count": 26,
     "metadata": {},
     "output_type": "execute_result"
    }
   ],
   "source": [
    "search('what is redis', lang=\"japanese\")\n"
   ]
  },
  {
   "cell_type": "code",
   "execution_count": 27,
   "metadata": {},
   "outputs": [
    {
     "data": {
      "text/plain": [
       "{'data': {'id': 'chatcmpl-7bUHwmfMzPEgW6qFU8fuZNOzWWGyM',\n",
       "  'object': 'chat.completion',\n",
       "  'created': 1689168920,\n",
       "  'model': 'gpt-3.5-turbo-0613',\n",
       "  'choices': [{'index': 0,\n",
       "    'message': {'role': 'assistant',\n",
       "     'content': 'Redis is an open-source, in-memory data structure store that is used as a database, cache, and message broker. It is known for its high performance, scalability, and versatility. Redis supports various data structures such as strings, hashes, lists, sets, and sorted sets, and provides a wide range of operations to manipulate and retrieve data efficiently. It is commonly used in applications that require fast data access and real-time data processing.'},\n",
       "    'finish_reason': 'stop'}],\n",
       "  'usage': {'prompt_tokens': 55,\n",
       "   'completion_tokens': 87,\n",
       "   'total_tokens': 142}}}"
      ]
     },
     "execution_count": 27,
     "metadata": {},
     "output_type": "execute_result"
    }
   ],
   "source": [
    "search('what is redis')\n"
   ]
  },
  {
   "cell_type": "code",
   "execution_count": 28,
   "metadata": {},
   "outputs": [
    {
     "data": {
      "text/plain": [
       "{'data': {'id': 'chatcmpl-7bUHz2zyoW6KLZFOS5aTk380JQWeJ',\n",
       "  'object': 'chat.completion',\n",
       "  'created': 1689168923,\n",
       "  'model': 'gpt-3.5-turbo-0613',\n",
       "  'choices': [{'index': 0,\n",
       "    'message': {'role': 'assistant',\n",
       "     'content': '要使用Golang编写冒泡排序，可以按照以下步骤进行：\\n\\n1. 创建一个整数切片，表示要排序的数据。\\n2. 使用两个嵌套的循环来比较相邻的元素，并根据需要交换它们的位置。\\n3. 外部循环控制需要比较的轮数，内部循环用于比较相邻元素并进行交换。\\n4. 如果当前元素大于下一个元素，则交换它们的位置。\\n5. 重复执行步骤3和4，直到完成所有的比较和交换。\\n6. 最后，输出排序后的结果。\\n\\n以下是一个示例代码，演示了如何使用Golang编写冒泡排序：\\n\\n```go\\npackage main\\n\\nimport \"fmt\"\\n\\nfunc bubbleSort(arr []int) {\\n    n := len(arr)\\n    for i := 0; i < n-1; i++ {\\n        for j := 0; j < n-i-1; j++ {\\n            if arr[j] > arr[j+1] {\\n                arr[j], arr[j+1] = arr[j+1], arr[j]\\n            }\\n        }\\n    }\\n}\\n\\nfunc main() {\\n    arr := []int{64, 34, 25, 12, 22, 11, 90}\\n    fmt.Println(\"排序前:\", arr)\\n    bubbleSort(arr)\\n    fmt.Println(\"排序后:\", arr)\\n}\\n```\\n\\n这段代码会输出以下结果：\\n\\n```\\n排序前: [64 34 25 12 22 11 90]\\n排序后: [11 12 22 25 34 64 90]\\n```\\n\\n这就是使用Golang编写冒泡排序的方法。希望对你有帮助！'},\n",
       "    'finish_reason': 'stop'}],\n",
       "  'usage': {'prompt_tokens': 62,\n",
       "   'completion_tokens': 424,\n",
       "   'total_tokens': 486}}}"
      ]
     },
     "execution_count": 28,
     "metadata": {},
     "output_type": "execute_result"
    }
   ],
   "source": [
    "search('golang如何写冒泡排序')\n"
   ]
  },
  {
   "cell_type": "code",
   "execution_count": 29,
   "metadata": {},
   "outputs": [
    {
     "data": {
      "text/plain": [
       "{'data': {'id': 'chatcmpl-7bUI9up9ouFZ45SS7dqWPCJerUXNw',\n",
       "  'object': 'chat.completion',\n",
       "  'created': 1689168933,\n",
       "  'model': 'gpt-3.5-turbo-0613',\n",
       "  'choices': [{'index': 0,\n",
       "    'message': {'role': 'assistant',\n",
       "     'content': \"Elizabeth can refer to several different individuals, so it's important to specify which Elizabeth you are referring to. Some notable individuals named Elizabeth include Queen Elizabeth II of the United Kingdom, Elizabeth Taylor, an iconic actress, and Elizabeth Warren, a prominent American politician.\"},\n",
       "    'finish_reason': 'stop'}],\n",
       "  'usage': {'prompt_tokens': 53,\n",
       "   'completion_tokens': 51,\n",
       "   'total_tokens': 104}}}"
      ]
     },
     "execution_count": 29,
     "metadata": {},
     "output_type": "execute_result"
    }
   ],
   "source": [
    "search('Elizabeth')"
   ]
  },
  {
   "cell_type": "code",
   "execution_count": 30,
   "metadata": {},
   "outputs": [
    {
     "data": {
      "text/plain": [
       "{'data': {'id': 'chatcmpl-7bUICFI2PCsQzSeMSXWAJSojiDPgw',\n",
       "  'object': 'chat.completion',\n",
       "  'created': 1689168936,\n",
       "  'model': 'gpt-3.5-turbo-0613',\n",
       "  'choices': [{'index': 0,\n",
       "    'message': {'role': 'assistant',\n",
       "     'content': '伊丽莎白是一个常见的英文女性名字，源自希伯来语的\"以利沙伯\"，意为\"上帝是我的誓约\"。这个名字在英语世界非常流行，也有一些著名的人物使用这个名字，比如英国女王伊丽莎白二世。'},\n",
       "    'finish_reason': 'stop'}],\n",
       "  'usage': {'prompt_tokens': 52,\n",
       "   'completion_tokens': 104,\n",
       "   'total_tokens': 156}}}"
      ]
     },
     "execution_count": 30,
     "metadata": {},
     "output_type": "execute_result"
    }
   ],
   "source": [
    "search('Elizabeth',lang=\"chinese\")"
   ]
  },
  {
   "cell_type": "code",
   "execution_count": 31,
   "metadata": {},
   "outputs": [
    {
     "data": {
      "text/plain": [
       "{'data': {'id': 'chatcmpl-7bUIFNooXBcRiTolgADiCXtYC0OXx',\n",
       "  'object': 'chat.completion',\n",
       "  'created': 1689168939,\n",
       "  'model': 'gpt-3.5-turbo-0613',\n",
       "  'choices': [{'index': 0,\n",
       "    'message': {'role': 'assistant',\n",
       "     'content': '伊丽莎白是一个常见的英文女性名字，源自希伯来语的\"以利沙伯\"，意为\"上帝是我的誓约\"。这个名字在英语世界非常流行，也有很多著名的人物使用这个名字，比如英国女王伊丽莎白二世。'},\n",
       "    'finish_reason': 'stop'}],\n",
       "  'usage': {'prompt_tokens': 52,\n",
       "   'completion_tokens': 105,\n",
       "   'total_tokens': 157}}}"
      ]
     },
     "execution_count": 31,
     "metadata": {},
     "output_type": "execute_result"
    }
   ],
   "source": [
    "search('Elizabeth',lang=\"中文\")"
   ]
  },
  {
   "cell_type": "code",
   "execution_count": null,
   "metadata": {},
   "outputs": [],
   "source": []
  }
 ],
 "metadata": {
  "kernelspec": {
   "display_name": "base",
   "language": "python",
   "name": "python3"
  },
  "language_info": {
   "codemirror_mode": {
    "name": "ipython",
    "version": 3
   },
   "file_extension": ".py",
   "mimetype": "text/x-python",
   "name": "python",
   "nbconvert_exporter": "python",
   "pygments_lexer": "ipython3",
   "version": "3.10.10"
  },
  "orig_nbformat": 4
 },
 "nbformat": 4,
 "nbformat_minor": 2
}
