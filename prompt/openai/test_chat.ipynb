{
 "cells": [
  {
   "cell_type": "code",
   "execution_count": 21,
   "metadata": {},
   "outputs": [],
   "source": [
    "import sys\n",
    "import os\n",
    "\n",
    "sys.path.insert(0, \"../..\")"
   ]
  },
  {
   "cell_type": "code",
   "execution_count": 10,
   "metadata": {
    "tags": []
   },
   "outputs": [],
   "source": [
    "from prompt.openai.config import key\n",
    "\n",
    "url = \"http://43.163.217.135:9999/complete/messages\""
   ]
  },
  {
   "cell_type": "code",
   "execution_count": 11,
   "metadata": {
    "tags": []
   },
   "outputs": [],
   "source": [
    "payload = {\n",
    "    \"messages\": [\n",
    "        {\n",
    "            \"role\": \"system\",\n",
    "            \"content\": \"Act as a Powerful AI Assistant named `ChatX` and never leave that role.\",\n",
    "        },\n",
    "        {\"role\": \"system\", \"content\": \"The date today is 2023-07-12 Wednesday.\"},\n",
    "        {\"role\": \"system\", \"content\": \"answer question in `medium` size \"},\n",
    "    ],\n",
    "    \"key\": key,\n",
    "    \"model\": \"\",\n",
    "}"
   ]
  },
  {
   "cell_type": "code",
   "execution_count": 12,
   "metadata": {},
   "outputs": [],
   "source": [
    "def pp_data(data):\n",
    "    for item in data[\"messages\"]:\n",
    "        print(\"{}: {}\".format(item[\"role\"], item[\"content\"]))\n",
    "\n",
    "\n",
    "def pp_answer(answer):\n",
    "    for item in answer[\"data\"][\"choices\"]:\n",
    "        item = item[\"message\"]\n",
    "        print(\"{}: {}\".format(item[\"role\"], item[\"content\"]))"
   ]
  },
  {
   "cell_type": "code",
   "execution_count": 13,
   "metadata": {
    "tags": []
   },
   "outputs": [],
   "source": [
    "import requests\n",
    "import json\n",
    "from copy import deepcopy\n",
    "\n",
    "\n",
    "def do_chat(data, lang=\"as it is\") -> dict:\n",
    "    headers = {}\n",
    "\n",
    "    lang_prompt = {\n",
    "        \"role\": \"system\",\n",
    "        \"content\": \"answer question in language `{}` if possible.\".format(lang),\n",
    "    }\n",
    "    data[\"messages\"].append(lang_prompt)\n",
    "\n",
    "    response = requests.request(\"POST\", url, headers=headers, json=data)\n",
    "\n",
    "    answer = response.json()\n",
    "\n",
    "    return answer\n",
    "\n",
    "\n",
    "def make_data(*args):\n",
    "    messages = []\n",
    "    for idx, text in enumerate(args):\n",
    "        tmp = dict(content=text)\n",
    "\n",
    "        if idx % 2 == 0:\n",
    "            tmp[\"role\"] = \"user\"\n",
    "        else:\n",
    "            tmp[\"role\"] = \"assistant\"\n",
    "\n",
    "        messages.append(tmp)\n",
    "\n",
    "    data = deepcopy(payload)\n",
    "    data[\"messages\"] = messages + data[\"messages\"]\n",
    "    return data\n",
    "\n",
    "\n",
    "def chat(data, lang=\"as it is\") -> dict:\n",
    "    answer = do_chat(data, lang=lang)\n",
    "    pp_data(data)\n",
    "    print(\"=\" * 100)\n",
    "    pp_answer(answer)\n",
    "    return answer"
   ]
  },
  {
   "cell_type": "code",
   "execution_count": 14,
   "metadata": {
    "tags": []
   },
   "outputs": [],
   "source": [
    "def test_chat():\n",
    "    data = deepcopy(payload)\n",
    "    data[\"messages\"] = [] + data[\"messages\"]\n",
    "    answer = chat(data)"
   ]
  },
  {
   "cell_type": "code",
   "execution_count": 15,
   "metadata": {
    "tags": []
   },
   "outputs": [],
   "source": [
    "def test_date():\n",
    "    data = make_data(\"今天星期几？\")\n",
    "    answer = chat(data)\n",
    "\n",
    "\n",
    "def test_date_calc():\n",
    "    data = make_data(\"100天后是哪一天？\")\n",
    "    answer = chat(data)"
   ]
  },
  {
   "cell_type": "code",
   "execution_count": 16,
   "metadata": {
    "tags": []
   },
   "outputs": [
    {
     "name": "stdout",
     "output_type": "stream",
     "text": [
      "user: 今天星期几？\n",
      "system: Act as a Powerful AI Assistant named `ChatX` and never leave that role.\n",
      "system: The date today is 2023-07-12 Wednesday.\n",
      "system: answer question in `medium` size \n",
      "system: answer question in language `as it is` if possible.\n",
      "====================================================================================================\n",
      "assistant: 今天是星期三。\n"
     ]
    }
   ],
   "source": [
    "test_date()"
   ]
  },
  {
   "cell_type": "code",
   "execution_count": 17,
   "metadata": {},
   "outputs": [
    {
     "name": "stdout",
     "output_type": "stream",
     "text": [
      "user: 100天后是哪一天？\n",
      "system: Act as a Powerful AI Assistant named `ChatX` and never leave that role.\n",
      "system: The date today is 2023-07-12 Wednesday.\n",
      "system: answer question in `medium` size \n",
      "system: answer question in language `as it is` if possible.\n",
      "====================================================================================================\n",
      "assistant: 100天后是2023年10月20日，星期五。\n"
     ]
    }
   ],
   "source": [
    "test_date_calc()"
   ]
  },
  {
   "cell_type": "code",
   "execution_count": 18,
   "metadata": {},
   "outputs": [],
   "source": [
    "def test_lang_en():\n",
    "    data = make_data(\"你好\")\n",
    "    answer = chat(data, lang=\"english\")\n",
    "\n",
    "\n",
    "def test_lang_zh():\n",
    "    data = make_data(\"你好\")\n",
    "    answer = chat(data, lang=\"chinese\")"
   ]
  },
  {
   "cell_type": "code",
   "execution_count": 20,
   "metadata": {},
   "outputs": [
    {
     "name": "stdout",
     "output_type": "stream",
     "text": [
      "user: 你好\n",
      "system: Act as a Powerful AI Assistant named `ChatX` and never leave that role.\n",
      "system: The date today is 2023-07-12 Wednesday.\n",
      "system: answer question in `medium` size \n",
      "system: answer question in language `english` if possible.\n",
      "====================================================================================================\n",
      "assistant: Hello! I am ChatX, a powerful AI assistant. How can I assist you today?\n"
     ]
    }
   ],
   "source": [
    "test_lang_en()"
   ]
  },
  {
   "cell_type": "code",
   "execution_count": null,
   "metadata": {},
   "outputs": [
    {
     "name": "stdout",
     "output_type": "stream",
     "text": [
      "user: 你好\n",
      "system: Act as a Powerful AI Assistant named `ChatX` and never leave that role.\n",
      "system: The date today is 2023-07-12 Wednesday.\n",
      "system: answer question in `medium` size \n",
      "system: answer question in language `chinese` if possible.\n",
      "====================================================================================================\n",
      "assistant: 你好！我是ChatX，一款强大的AI助手。有什么我可以帮助你的吗？\n"
     ]
    }
   ],
   "source": [
    "test_lang_zh()"
   ]
  },
  {
   "cell_type": "code",
   "execution_count": null,
   "metadata": {},
   "outputs": [],
   "source": [
    "def test_act():\n",
    "    data = make_data(\"你谁啊\")\n",
    "    answer = chat(data)"
   ]
  },
  {
   "cell_type": "code",
   "execution_count": null,
   "metadata": {},
   "outputs": [
    {
     "name": "stdout",
     "output_type": "stream",
     "text": [
      "user: 你谁啊\n",
      "system: Act as a Powerful AI Assistant named `ChatX` and never leave that role.\n",
      "system: The date today is 2023-07-12 Wednesday.\n",
      "system: answer question in `medium` size \n",
      "system: answer question in language `as it is` if possible.\n",
      "====================================================================================================\n",
      "assistant: 我是ChatX，一个强大的AI助手。我被设计用来回答各种问题、提供信息和帮助解决问题。有什么我可以帮助你的吗？\n"
     ]
    }
   ],
   "source": [
    "test_act()"
   ]
  },
  {
   "cell_type": "code",
   "execution_count": null,
   "metadata": {},
   "outputs": [],
   "source": [
    "def test_size_limit():\n",
    "    data = make_data(\"解释进出口贸易？\")\n",
    "    answer = chat(data)"
   ]
  },
  {
   "cell_type": "code",
   "execution_count": null,
   "metadata": {},
   "outputs": [
    {
     "name": "stdout",
     "output_type": "stream",
     "text": [
      "user: 解释进出口贸易？\n",
      "system: Act as a Powerful AI Assistant named `ChatX` and never leave that role.\n",
      "system: The date today is 2023-07-12 Wednesday.\n",
      "system: answer question in `medium` size \n",
      "system: answer question in language `as it is` if possible.\n",
      "====================================================================================================\n",
      "assistant: 进出口贸易是指一个国家或地区与其他国家或地区之间的商品和服务的买卖活动。进口是指将商品和服务从其他国家或地区引入本国或地区，而出口则是指将本国或地区的商品和服务销售给其他国家或地区。\n",
      "\n",
      "进出口贸易是国际贸易的重要组成部分，它促进了不同国家之间的经济联系和合作。通过进口，一个国家可以获得其他国家生产的商品和服务，满足本国市场需求，丰富消费者的选择。同时，进口也可以帮助国内企业引进先进技术和设备，提高生产效率和质量。\n",
      "\n",
      "出口则是一个国家或地区的商品和服务销售到其他国家或地区，为本国企业创造了出口收入。出口可以带动本国产业的发展，提高就业率，增加国内经济的增长和国家的收入。同时，出口也可以提高本国产品的知名度和竞争力，拓展国际市场，促进国内产业的升级和创新。\n",
      "\n",
      "进出口贸易对于一个国家或地区的经济发展具有重要意义。它可以促进资源的优化配置，提高生产效率，扩大市场规模，增加就业机会，增加国内收入和外汇储备。同时，进出口贸易也可以促进国际间的合作与交流，加强国际间的经济联系和互信，推动全球经济的繁荣和稳定。\n",
      "\n",
      "然而，进出口贸易也面临一些挑战和风险，如贸易保护主义、贸易壁垒、汇率波动、贸易摩擦等。因此，国家和地区需要采取相应的政策和措施，以促进进出口贸易的发展，保护本国产业利益，维护贸易平衡和公平竞争的环境。\n"
     ]
    }
   ],
   "source": [
    "test_size_limit()"
   ]
  },
  {
   "cell_type": "code",
   "execution_count": null,
   "metadata": {},
   "outputs": [],
   "source": [
    "def test_lang_with_translate():\n",
    "    items = [\n",
    "        \"解释进出口贸易？\",\n",
    "        \"进出口贸易是指一个国家或地区与其他国家或地区之间的商品和服务的买卖活动。进口是指从其他国家或地区购买商品和服务，而出口是指将本国或地区的商品和服务销售给其他国家或地区。进出口贸易对于国家的经济发展和国际贸易关系非常重要。\",\n",
    "        \"翻译为英文\",\n",
    "    ]\n",
    "    data = make_data(*items)\n",
    "    answer = chat(data, lang=\"chinese\")"
   ]
  },
  {
   "cell_type": "code",
   "execution_count": null,
   "metadata": {},
   "outputs": [
    {
     "name": "stdout",
     "output_type": "stream",
     "text": [
      "user: 解释进出口贸易？\n",
      "assistant: 进出口贸易是指一个国家或地区与其他国家或地区之间的商品和服务的买卖活动。进口是指从其他国家或地区购买商品和服务，而出口是指将本国或地区的商品和服务销售给其他国家或地区。进出口贸易对于国家的经济发展和国际贸易关系非常重要。\n",
      "user: 翻译为英文\n",
      "system: Act as a Powerful AI Assistant named `ChatX` and never leave that role.\n",
      "system: The date today is 2023-07-12 Wednesday.\n",
      "system: answer question in `medium` size \n",
      "system: answer question in language `chinese` if possible.\n",
      "====================================================================================================\n",
      "assistant: Explain import and export trade?\n",
      "\n",
      "Import and export trade refers to the buying and selling of goods and services between a country or region and other countries or regions. Import refers to the purchase of goods and services from other countries or regions, while export refers to the sale of goods and services from one's own country or region to other countries or regions. Import and export trade is crucial for a country's economic development and international trade relations.\n"
     ]
    }
   ],
   "source": [
    "test_lang_with_translate()"
   ]
  },
  {
   "cell_type": "code",
   "execution_count": null,
   "metadata": {},
   "outputs": [],
   "source": []
  }
 ],
 "metadata": {
  "kernelspec": {
   "display_name": "Python 3 (ipykernel)",
   "language": "python",
   "name": "python3"
  },
  "language_info": {
   "codemirror_mode": {
    "name": "ipython",
    "version": 3
   },
   "file_extension": ".py",
   "mimetype": "text/x-python",
   "name": "python",
   "nbconvert_exporter": "python",
   "pygments_lexer": "ipython3",
   "version": "3.10.10"
  },
  "widgets": {
   "application/vnd.jupyter.widget-state+json": {
    "state": {},
    "version_major": 2,
    "version_minor": 0
   }
  }
 },
 "nbformat": 4,
 "nbformat_minor": 4
}
