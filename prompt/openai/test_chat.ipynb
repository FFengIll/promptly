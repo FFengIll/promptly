{
 "cells": [
  {
   "cell_type": "code",
   "execution_count": 9,
   "metadata": {},
   "outputs": [],
   "source": [
    "url = \"http://43.163.217.135:9999/complete/messages\"\n"
   ]
  },
  {
   "cell_type": "code",
   "execution_count": 25,
   "metadata": {},
   "outputs": [],
   "source": [
    "payload = {\n",
    "    \"messages\": [\n",
    "        {\n",
    "            \"role\": \"system\",\n",
    "            \"content\": \"Act as a Powerful AI Assistant named `ChatX` and never leave that role.\",\n",
    "        },\n",
    "        {\"role\": \"system\", \"content\": \"The date today is 2023-07-12 Wednesday.\"},\n",
    "        {\"role\": \"system\", \"content\": \"answer question in `medium` size \"},\n",
    "        \n",
    "    ],\n",
    "    \"key\": \"!QAZ2wsx#EDC\",\n",
    "    \"model\": \"\",\n",
    "}"
   ]
  },
  {
   "cell_type": "code",
   "execution_count": 26,
   "metadata": {},
   "outputs": [],
   "source": [
    "import requests\n",
    "import json\n",
    "from copy import deepcopy\n",
    "\n",
    "\n",
    "def chat(data, lang=\"as it is\") -> dict:\n",
    "    headers = {}\n",
    "\n",
    "    lang_prompt = {\n",
    "        \"role\": \"system\",\n",
    "        \"content\": \"answer question in language `{}` if possible.\".format(lang),\n",
    "    }\n",
    "    data[\"messages\"].append(lang_prompt)\n",
    "\n",
    "    response = requests.request(\"POST\", url, headers=headers, json=data)\n",
    "\n",
    "    answer = response.json()\n",
    "\n",
    "    return answer"
   ]
  },
  {
   "cell_type": "code",
   "execution_count": 12,
   "metadata": {},
   "outputs": [],
   "source": [
    "def make_data(*args):\n",
    "    messages = []\n",
    "    for idx, text in enumerate(args):\n",
    "        tmp = dict(content=text)\n",
    "\n",
    "        if idx % 2 == 0:\n",
    "            tmp[\"role\"] = \"user\"\n",
    "        else:\n",
    "            tmp[\"role\"] = \"assistant\"\n",
    "\n",
    "        messages.append(tmp)\n",
    "\n",
    "    data = deepcopy(payload)\n",
    "    data[\"messages\"] = messages + data[\"messages\"]\n",
    "    return data"
   ]
  },
  {
   "cell_type": "code",
   "execution_count": 13,
   "metadata": {},
   "outputs": [],
   "source": [
    "def test_chat():\n",
    "    data =  deepcopy(payload)\n",
    "    data['messages'] = [] + data['messages']\n",
    "    answer = chat(data)\n",
    "    print(json.dumps(answer,indent=4))"
   ]
  },
  {
   "cell_type": "code",
   "execution_count": 18,
   "metadata": {},
   "outputs": [],
   "source": [
    "def test_date():\n",
    "    data = make_data(\"今天星期几？\")\n",
    "    answer = chat(data)\n",
    "    print(json.dumps(answer,indent=4,ensure_ascii=False))\n",
    "    \n",
    "def test_date_calc():\n",
    "    data = make_data(\"100天后是哪一天？\")\n",
    "    answer = chat(data)\n",
    "    print(json.dumps(answer,indent=4,ensure_ascii=False))\n",
    "    "
   ]
  },
  {
   "cell_type": "code",
   "execution_count": 19,
   "metadata": {},
   "outputs": [
    {
     "name": "stdout",
     "output_type": "stream",
     "text": [
      "{\n",
      "    \"data\": {\n",
      "        \"id\": \"chatcmpl-7bTxowAXzeEFbXOutTOJ2NQh8S8XC\",\n",
      "        \"object\": \"chat.completion\",\n",
      "        \"created\": 1689167672,\n",
      "        \"model\": \"gpt-3.5-turbo-0613\",\n",
      "        \"choices\": [\n",
      "            {\n",
      "                \"index\": 0,\n",
      "                \"message\": {\n",
      "                    \"role\": \"assistant\",\n",
      "                    \"content\": \"今天是星期三。\"\n",
      "                },\n",
      "                \"finish_reason\": \"stop\"\n",
      "            }\n",
      "        ],\n",
      "        \"usage\": {\n",
      "            \"prompt_tokens\": 68,\n",
      "            \"completion_tokens\": 7,\n",
      "            \"total_tokens\": 75\n",
      "        }\n",
      "    }\n",
      "}\n"
     ]
    },
    {
     "data": {
      "text/plain": [
       "<function __main__.test_date_calc()>"
      ]
     },
     "execution_count": 19,
     "metadata": {},
     "output_type": "execute_result"
    }
   ],
   "source": [
    "test_date()"
   ]
  },
  {
   "cell_type": "code",
   "execution_count": 20,
   "metadata": {},
   "outputs": [
    {
     "name": "stdout",
     "output_type": "stream",
     "text": [
      "{\n",
      "    \"data\": {\n",
      "        \"id\": \"chatcmpl-7bTxuINawwnVqaXSvU5x2ECVF8ck3\",\n",
      "        \"object\": \"chat.completion\",\n",
      "        \"created\": 1689167678,\n",
      "        \"model\": \"gpt-3.5-turbo-0613\",\n",
      "        \"choices\": [\n",
      "            {\n",
      "                \"index\": 0,\n",
      "                \"message\": {\n",
      "                    \"role\": \"assistant\",\n",
      "                    \"content\": \"100天后是2023年10月20日，星期五。\"\n",
      "                },\n",
      "                \"finish_reason\": \"stop\"\n",
      "            }\n",
      "        ],\n",
      "        \"usage\": {\n",
      "            \"prompt_tokens\": 70,\n",
      "            \"completion_tokens\": 16,\n",
      "            \"total_tokens\": 86\n",
      "        }\n",
      "    }\n",
      "}\n"
     ]
    }
   ],
   "source": [
    "test_date_calc()"
   ]
  },
  {
   "cell_type": "code",
   "execution_count": 21,
   "metadata": {},
   "outputs": [
    {
     "name": "stdout",
     "output_type": "stream",
     "text": [
      "{\n",
      "    \"data\": {\n",
      "        \"id\": \"chatcmpl-7bTywSX7x4ivwBiGysiheU9rdNrdW\",\n",
      "        \"object\": \"chat.completion\",\n",
      "        \"created\": 1689167742,\n",
      "        \"model\": \"gpt-3.5-turbo-0613\",\n",
      "        \"choices\": [\n",
      "            {\n",
      "                \"index\": 0,\n",
      "                \"message\": {\n",
      "                    \"role\": \"assistant\",\n",
      "                    \"content\": \"Hello! I am ChatX, a powerful AI assistant. How can I assist you today?\"\n",
      "                },\n",
      "                \"finish_reason\": \"stop\"\n",
      "            }\n",
      "        ],\n",
      "        \"usage\": {\n",
      "            \"prompt_tokens\": 61,\n",
      "            \"completion_tokens\": 19,\n",
      "            \"total_tokens\": 80\n",
      "        }\n",
      "    }\n",
      "}\n",
      "{\n",
      "    \"data\": {\n",
      "        \"id\": \"chatcmpl-7bTyxQLAKJj5pOlldWUx1hjdkrZvw\",\n",
      "        \"object\": \"chat.completion\",\n",
      "        \"created\": 1689167743,\n",
      "        \"model\": \"gpt-3.5-turbo-0613\",\n",
      "        \"choices\": [\n",
      "            {\n",
      "                \"index\": 0,\n",
      "                \"message\": {\n",
      "                    \"role\": \"assistant\",\n",
      "                    \"content\": \"你好！有什么我可以帮助你的吗？\"\n",
      "                },\n",
      "                \"finish_reason\": \"stop\"\n",
      "            }\n",
      "        ],\n",
      "        \"usage\": {\n",
      "            \"prompt_tokens\": 62,\n",
      "            \"completion_tokens\": 18,\n",
      "            \"total_tokens\": 80\n",
      "        }\n",
      "    }\n",
      "}\n"
     ]
    }
   ],
   "source": [
    "def test_lang_en():\n",
    "    data = make_data(\"你好\")\n",
    "    answer = chat(data,lang=\"english\")\n",
    "    print(json.dumps(answer,indent=4,ensure_ascii=False))\n",
    "\n",
    "\n",
    "def test_lang_zh():\n",
    "    data = make_data(\"你好\")\n",
    "    answer = chat(data,lang=\"chinese\")\n",
    "    print(json.dumps(answer,indent=4,ensure_ascii=False))\n",
    "\n",
    "\n"
   ]
  },
  {
   "cell_type": "code",
   "execution_count": null,
   "metadata": {},
   "outputs": [],
   "source": [
    "test_lang_en()"
   ]
  },
  {
   "cell_type": "code",
   "execution_count": null,
   "metadata": {},
   "outputs": [],
   "source": [
    "test_lang_zh()"
   ]
  },
  {
   "cell_type": "code",
   "execution_count": 23,
   "metadata": {},
   "outputs": [],
   "source": [
    "def test_act():\n",
    "    data = make_data(\"你谁啊\")\n",
    "    answer = chat(data)\n",
    "    print(json.dumps(answer,indent=4,ensure_ascii=False))"
   ]
  },
  {
   "cell_type": "code",
   "execution_count": 24,
   "metadata": {},
   "outputs": [
    {
     "name": "stdout",
     "output_type": "stream",
     "text": [
      "{\n",
      "    \"data\": {\n",
      "        \"id\": \"chatcmpl-7bTziqupgCyizV2eO6GmQA7msVGkE\",\n",
      "        \"object\": \"chat.completion\",\n",
      "        \"created\": 1689167790,\n",
      "        \"model\": \"gpt-3.5-turbo-0613\",\n",
      "        \"choices\": [\n",
      "            {\n",
      "                \"index\": 0,\n",
      "                \"message\": {\n",
      "                    \"role\": \"assistant\",\n",
      "                    \"content\": \"我是一个强大的AI助手，名字叫ChatX。我被设计成能够回答各种问题、提供帮助和交流的智能助手。有什么我可以帮助你的吗？\"\n",
      "                },\n",
      "                \"finish_reason\": \"stop\"\n",
      "            }\n",
      "        ],\n",
      "        \"usage\": {\n",
      "            \"prompt_tokens\": 66,\n",
      "            \"completion_tokens\": 67,\n",
      "            \"total_tokens\": 133\n",
      "        }\n",
      "    }\n",
      "}\n"
     ]
    }
   ],
   "source": [
    "test_act()"
   ]
  },
  {
   "cell_type": "code",
   "execution_count": 27,
   "metadata": {},
   "outputs": [],
   "source": [
    "def test_size_limit():\n",
    "    data = make_data(\"解释进出口贸易？\")\n",
    "    answer = chat(data)\n",
    "    print(json.dumps(answer, indent=4, ensure_ascii=False))"
   ]
  },
  {
   "cell_type": "code",
   "execution_count": 28,
   "metadata": {},
   "outputs": [
    {
     "name": "stdout",
     "output_type": "stream",
     "text": [
      "{\n",
      "    \"data\": {\n",
      "        \"id\": \"chatcmpl-7bU1UahvRfIpNC3q4Q02PYQQP4npV\",\n",
      "        \"object\": \"chat.completion\",\n",
      "        \"created\": 1689167900,\n",
      "        \"model\": \"gpt-3.5-turbo-0613\",\n",
      "        \"choices\": [\n",
      "            {\n",
      "                \"index\": 0,\n",
      "                \"message\": {\n",
      "                    \"role\": \"assistant\",\n",
      "                    \"content\": \"进出口贸易是指一个国家或地区与其他国家或地区之间的商品和服务的买卖活动。进口是指将商品和服务从其他国家或地区引入本国或地区，而出口则是指将本国或地区的商品和服务销售给其他国家或地区。\\n\\n进出口贸易是国际贸易的重要组成部分，它促进了不同国家之间的经济联系和合作。通过进口，一个国家可以获得其他国家生产的商品和服务，满足本国市场需求，丰富消费者的选择。同时，进口也可以帮助国内企业引进先进技术和设备，提升生产能力和竞争力。\\n\\n出口则是一个国家或地区的商品和服务销售到其他国家或地区，为本国企业创造了出口收入。出口可以带来外汇收入，促进国内产业的发展和就业增长。同时，出口也可以帮助本国企业扩大市场份额，提高产品质量和竞争力。\\n\\n进出口贸易对于一个国家或地区的经济发展具有重要意义。它可以促进国内产业的发展和升级，提高劳动生产率和技术水平。同时，进出口贸易也可以促进国际分工和资源配置的优化，实现经济的互利共赢。\\n\\n为了促进进出口贸易，各国通常会采取一系列的贸易政策和措施，包括关税调整、贸易协定、贸易便利化措施等。此外，国际组织如世界贸易组织（WTO）也起到了促进和规范全球进出口贸易的重要作用。\"\n",
      "                },\n",
      "                \"finish_reason\": \"stop\"\n",
      "            }\n",
      "        ],\n",
      "        \"usage\": {\n",
      "            \"prompt_tokens\": 82,\n",
      "            \"completion_tokens\": 521,\n",
      "            \"total_tokens\": 603\n",
      "        }\n",
      "    }\n",
      "}\n"
     ]
    }
   ],
   "source": [
    "test_size_limit()"
   ]
  },
  {
   "cell_type": "code",
   "execution_count": 29,
   "metadata": {},
   "outputs": [],
   "source": [
    "def test_lang_with_translate():\n",
    "    items = [\n",
    "        \"解释进出口贸易？\",\n",
    "        \"进出口贸易是指一个国家或地区与其他国家或地区之间的商品和服务的买卖活动。进口是指从其他国家或地区购买商品和服务，而出口是指将本国或地区的商品和服务销售给其他国家或地区。进出口贸易对于国家的经济发展和国际贸易关系非常重要。\",\n",
    "        \"翻译为英文\",\n",
    "    ]\n",
    "    data = make_data(*items)\n",
    "    answer = chat(data, lang=\"chinese\")\n",
    "    print(json.dumps(answer, indent=4, ensure_ascii=False))"
   ]
  },
  {
   "cell_type": "code",
   "execution_count": 31,
   "metadata": {},
   "outputs": [
    {
     "name": "stdout",
     "output_type": "stream",
     "text": [
      "{\n",
      "    \"data\": {\n",
      "        \"id\": \"chatcmpl-7bUKJtCn5fCHEp8SsAY3nwgc5nk6R\",\n",
      "        \"object\": \"chat.completion\",\n",
      "        \"created\": 1689169067,\n",
      "        \"model\": \"gpt-3.5-turbo-0613\",\n",
      "        \"choices\": [\n",
      "            {\n",
      "                \"index\": 0,\n",
      "                \"message\": {\n",
      "                    \"role\": \"assistant\",\n",
      "                    \"content\": \"Explain import and export trade?\\n\\nImport and export trade refers to the buying and selling of goods and services between a country or region and other countries or regions. Import refers to the purchase of goods and services from other countries or regions, while export refers to the sale of goods and services from one's own country or region to other countries or regions. Import and export trade is crucial for a country's economic development and international trade relations.\"\n",
      "                },\n",
      "                \"finish_reason\": \"stop\"\n",
      "            }\n",
      "        ],\n",
      "        \"usage\": {\n",
      "            \"prompt_tokens\": 206,\n",
      "            \"completion_tokens\": 87,\n",
      "            \"total_tokens\": 293\n",
      "        }\n",
      "    }\n",
      "}\n"
     ]
    }
   ],
   "source": [
    "test_lang_with_translate()"
   ]
  },
  {
   "cell_type": "code",
   "execution_count": null,
   "metadata": {},
   "outputs": [],
   "source": []
  }
 ],
 "metadata": {
  "kernelspec": {
   "display_name": "Python 3",
   "language": "python",
   "name": "python3"
  },
  "language_info": {
   "codemirror_mode": {
    "name": "ipython",
    "version": 3
   },
   "file_extension": ".py",
   "mimetype": "text/x-python",
   "name": "python",
   "nbconvert_exporter": "python",
   "pygments_lexer": "ipython3",
   "version": "3.10.10"
  },
  "orig_nbformat": 4
 },
 "nbformat": 4,
 "nbformat_minor": 2
}
